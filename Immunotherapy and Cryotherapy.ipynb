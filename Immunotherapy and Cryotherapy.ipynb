{
 "cells": [
  {
   "cell_type": "code",
   "execution_count": null,
   "metadata": {},
   "outputs": [],
   "source": []
  },
  {
   "cell_type": "code",
   "execution_count": 625,
   "metadata": {},
   "outputs": [
    {
     "data": {
      "text/html": [
       "<div>\n",
       "<style scoped>\n",
       "    .dataframe tbody tr th:only-of-type {\n",
       "        vertical-align: middle;\n",
       "    }\n",
       "\n",
       "    .dataframe tbody tr th {\n",
       "        vertical-align: top;\n",
       "    }\n",
       "\n",
       "    .dataframe thead th {\n",
       "        text-align: right;\n",
       "    }\n",
       "</style>\n",
       "<table border=\"1\" class=\"dataframe\">\n",
       "  <thead>\n",
       "    <tr style=\"text-align: right;\">\n",
       "      <th></th>\n",
       "      <th>sex</th>\n",
       "      <th>age</th>\n",
       "      <th>Time</th>\n",
       "      <th>Number_of_Warts</th>\n",
       "      <th>Type</th>\n",
       "      <th>Area</th>\n",
       "      <th>Result_of_Treatment</th>\n",
       "    </tr>\n",
       "  </thead>\n",
       "  <tbody>\n",
       "    <tr>\n",
       "      <th>0</th>\n",
       "      <td>1</td>\n",
       "      <td>35</td>\n",
       "      <td>12.00</td>\n",
       "      <td>5</td>\n",
       "      <td>1</td>\n",
       "      <td>100</td>\n",
       "      <td>0</td>\n",
       "    </tr>\n",
       "    <tr>\n",
       "      <th>1</th>\n",
       "      <td>1</td>\n",
       "      <td>29</td>\n",
       "      <td>7.00</td>\n",
       "      <td>5</td>\n",
       "      <td>1</td>\n",
       "      <td>96</td>\n",
       "      <td>1</td>\n",
       "    </tr>\n",
       "    <tr>\n",
       "      <th>2</th>\n",
       "      <td>1</td>\n",
       "      <td>50</td>\n",
       "      <td>8.00</td>\n",
       "      <td>1</td>\n",
       "      <td>3</td>\n",
       "      <td>132</td>\n",
       "      <td>0</td>\n",
       "    </tr>\n",
       "    <tr>\n",
       "      <th>3</th>\n",
       "      <td>1</td>\n",
       "      <td>32</td>\n",
       "      <td>11.75</td>\n",
       "      <td>7</td>\n",
       "      <td>3</td>\n",
       "      <td>750</td>\n",
       "      <td>0</td>\n",
       "    </tr>\n",
       "    <tr>\n",
       "      <th>4</th>\n",
       "      <td>1</td>\n",
       "      <td>67</td>\n",
       "      <td>9.25</td>\n",
       "      <td>1</td>\n",
       "      <td>1</td>\n",
       "      <td>42</td>\n",
       "      <td>0</td>\n",
       "    </tr>\n",
       "  </tbody>\n",
       "</table>\n",
       "</div>"
      ],
      "text/plain": [
       "   sex  age   Time  Number_of_Warts  Type  Area  Result_of_Treatment\n",
       "0    1   35  12.00                5     1   100                    0\n",
       "1    1   29   7.00                5     1    96                    1\n",
       "2    1   50   8.00                1     3   132                    0\n",
       "3    1   32  11.75                7     3   750                    0\n",
       "4    1   67   9.25                1     1    42                    0"
      ]
     },
     "execution_count": 625,
     "metadata": {},
     "output_type": "execute_result"
    }
   ],
   "source": [
    "import pandas as pd\n",
    "url=\"https://bd29ee0e-54ab-4daa-9671-d153865d1620.usrfiles.com/ugd/bd29ee_8d1c53da1cbb4d8bb89ec5eaf6508b9e.csv\"\n",
    "df=pd.read_csv(url)\n",
    "df.head()"
   ]
  },
  {
   "cell_type": "code",
   "execution_count": 626,
   "metadata": {},
   "outputs": [
    {
     "data": {
      "text/plain": [
       "(90, 7)"
      ]
     },
     "execution_count": 626,
     "metadata": {},
     "output_type": "execute_result"
    }
   ],
   "source": [
    "df.shape"
   ]
  },
  {
   "cell_type": "code",
   "execution_count": 627,
   "metadata": {},
   "outputs": [
    {
     "data": {
      "text/plain": [
       "sex                    False\n",
       "age                    False\n",
       "Time                   False\n",
       "Number_of_Warts        False\n",
       "Type                   False\n",
       "Area                   False\n",
       "Result_of_Treatment    False\n",
       "dtype: bool"
      ]
     },
     "execution_count": 627,
     "metadata": {},
     "output_type": "execute_result"
    }
   ],
   "source": [
    "df.isna().any()"
   ]
  },
  {
   "cell_type": "code",
   "execution_count": 628,
   "metadata": {},
   "outputs": [
    {
     "data": {
      "text/html": [
       "<div>\n",
       "<style scoped>\n",
       "    .dataframe tbody tr th:only-of-type {\n",
       "        vertical-align: middle;\n",
       "    }\n",
       "\n",
       "    .dataframe tbody tr th {\n",
       "        vertical-align: top;\n",
       "    }\n",
       "\n",
       "    .dataframe thead th {\n",
       "        text-align: right;\n",
       "    }\n",
       "</style>\n",
       "<table border=\"1\" class=\"dataframe\">\n",
       "  <thead>\n",
       "    <tr style=\"text-align: right;\">\n",
       "      <th>Result_of_Treatment</th>\n",
       "      <th>0</th>\n",
       "      <th>1</th>\n",
       "    </tr>\n",
       "  </thead>\n",
       "  <tbody>\n",
       "    <tr>\n",
       "      <th>sex</th>\n",
       "      <td>42</td>\n",
       "      <td>48</td>\n",
       "    </tr>\n",
       "    <tr>\n",
       "      <th>age</th>\n",
       "      <td>42</td>\n",
       "      <td>48</td>\n",
       "    </tr>\n",
       "    <tr>\n",
       "      <th>Time</th>\n",
       "      <td>42</td>\n",
       "      <td>48</td>\n",
       "    </tr>\n",
       "    <tr>\n",
       "      <th>Number_of_Warts</th>\n",
       "      <td>42</td>\n",
       "      <td>48</td>\n",
       "    </tr>\n",
       "    <tr>\n",
       "      <th>Type</th>\n",
       "      <td>42</td>\n",
       "      <td>48</td>\n",
       "    </tr>\n",
       "    <tr>\n",
       "      <th>Area</th>\n",
       "      <td>42</td>\n",
       "      <td>48</td>\n",
       "    </tr>\n",
       "  </tbody>\n",
       "</table>\n",
       "</div>"
      ],
      "text/plain": [
       "Result_of_Treatment   0   1\n",
       "sex                  42  48\n",
       "age                  42  48\n",
       "Time                 42  48\n",
       "Number_of_Warts      42  48\n",
       "Type                 42  48\n",
       "Area                 42  48"
      ]
     },
     "execution_count": 628,
     "metadata": {},
     "output_type": "execute_result"
    }
   ],
   "source": [
    "df.groupby(\"Result_of_Treatment\").count().T"
   ]
  },
  {
   "cell_type": "markdown",
   "metadata": {},
   "source": [
    "A balanced dataset."
   ]
  },
  {
   "cell_type": "code",
   "execution_count": 629,
   "metadata": {},
   "outputs": [
    {
     "data": {
      "text/html": [
       "<div>\n",
       "<style scoped>\n",
       "    .dataframe tbody tr th:only-of-type {\n",
       "        vertical-align: middle;\n",
       "    }\n",
       "\n",
       "    .dataframe tbody tr th {\n",
       "        vertical-align: top;\n",
       "    }\n",
       "\n",
       "    .dataframe thead th {\n",
       "        text-align: right;\n",
       "    }\n",
       "</style>\n",
       "<table border=\"1\" class=\"dataframe\">\n",
       "  <thead>\n",
       "    <tr style=\"text-align: right;\">\n",
       "      <th></th>\n",
       "      <th>sex</th>\n",
       "      <th>age</th>\n",
       "      <th>Time</th>\n",
       "      <th>Number_of_Warts</th>\n",
       "      <th>Type</th>\n",
       "      <th>Area</th>\n",
       "    </tr>\n",
       "  </thead>\n",
       "  <tbody>\n",
       "    <tr>\n",
       "      <th>0</th>\n",
       "      <td>1</td>\n",
       "      <td>35</td>\n",
       "      <td>12.00</td>\n",
       "      <td>5</td>\n",
       "      <td>1</td>\n",
       "      <td>100</td>\n",
       "    </tr>\n",
       "    <tr>\n",
       "      <th>1</th>\n",
       "      <td>1</td>\n",
       "      <td>29</td>\n",
       "      <td>7.00</td>\n",
       "      <td>5</td>\n",
       "      <td>1</td>\n",
       "      <td>96</td>\n",
       "    </tr>\n",
       "    <tr>\n",
       "      <th>2</th>\n",
       "      <td>1</td>\n",
       "      <td>50</td>\n",
       "      <td>8.00</td>\n",
       "      <td>1</td>\n",
       "      <td>3</td>\n",
       "      <td>132</td>\n",
       "    </tr>\n",
       "    <tr>\n",
       "      <th>3</th>\n",
       "      <td>1</td>\n",
       "      <td>32</td>\n",
       "      <td>11.75</td>\n",
       "      <td>7</td>\n",
       "      <td>3</td>\n",
       "      <td>750</td>\n",
       "    </tr>\n",
       "    <tr>\n",
       "      <th>4</th>\n",
       "      <td>1</td>\n",
       "      <td>67</td>\n",
       "      <td>9.25</td>\n",
       "      <td>1</td>\n",
       "      <td>1</td>\n",
       "      <td>42</td>\n",
       "    </tr>\n",
       "  </tbody>\n",
       "</table>\n",
       "</div>"
      ],
      "text/plain": [
       "   sex  age   Time  Number_of_Warts  Type  Area\n",
       "0    1   35  12.00                5     1   100\n",
       "1    1   29   7.00                5     1    96\n",
       "2    1   50   8.00                1     3   132\n",
       "3    1   32  11.75                7     3   750\n",
       "4    1   67   9.25                1     1    42"
      ]
     },
     "execution_count": 629,
     "metadata": {},
     "output_type": "execute_result"
    }
   ],
   "source": [
    "X=df.drop([\"Result_of_Treatment\"],axis=1)\n",
    "X.head()"
   ]
  },
  {
   "cell_type": "code",
   "execution_count": 630,
   "metadata": {},
   "outputs": [
    {
     "data": {
      "text/html": [
       "<div>\n",
       "<style scoped>\n",
       "    .dataframe tbody tr th:only-of-type {\n",
       "        vertical-align: middle;\n",
       "    }\n",
       "\n",
       "    .dataframe tbody tr th {\n",
       "        vertical-align: top;\n",
       "    }\n",
       "\n",
       "    .dataframe thead th {\n",
       "        text-align: right;\n",
       "    }\n",
       "</style>\n",
       "<table border=\"1\" class=\"dataframe\">\n",
       "  <thead>\n",
       "    <tr style=\"text-align: right;\">\n",
       "      <th></th>\n",
       "      <th>Result_of_Treatment</th>\n",
       "    </tr>\n",
       "  </thead>\n",
       "  <tbody>\n",
       "    <tr>\n",
       "      <th>0</th>\n",
       "      <td>0</td>\n",
       "    </tr>\n",
       "    <tr>\n",
       "      <th>1</th>\n",
       "      <td>1</td>\n",
       "    </tr>\n",
       "    <tr>\n",
       "      <th>2</th>\n",
       "      <td>0</td>\n",
       "    </tr>\n",
       "    <tr>\n",
       "      <th>3</th>\n",
       "      <td>0</td>\n",
       "    </tr>\n",
       "    <tr>\n",
       "      <th>4</th>\n",
       "      <td>0</td>\n",
       "    </tr>\n",
       "  </tbody>\n",
       "</table>\n",
       "</div>"
      ],
      "text/plain": [
       "   Result_of_Treatment\n",
       "0                    0\n",
       "1                    1\n",
       "2                    0\n",
       "3                    0\n",
       "4                    0"
      ]
     },
     "execution_count": 630,
     "metadata": {},
     "output_type": "execute_result"
    }
   ],
   "source": [
    "y=df[[\"Result_of_Treatment\"]]\n",
    "y.head()"
   ]
  },
  {
   "cell_type": "code",
   "execution_count": 631,
   "metadata": {},
   "outputs": [
    {
     "name": "stderr",
     "output_type": "stream",
     "text": [
      "/home/jupyterlab/conda/envs/python/lib/python3.6/site-packages/sklearn/preprocessing/data.py:625: DataConversionWarning: Data with input dtype int64, float64 were all converted to float64 by StandardScaler.\n",
      "  return self.partial_fit(X, y)\n",
      "/home/jupyterlab/conda/envs/python/lib/python3.6/site-packages/sklearn/base.py:462: DataConversionWarning: Data with input dtype int64, float64 were all converted to float64 by StandardScaler.\n",
      "  return self.fit(X, **fit_params).transform(X)\n"
     ]
    },
    {
     "data": {
      "text/html": [
       "<div>\n",
       "<style scoped>\n",
       "    .dataframe tbody tr th:only-of-type {\n",
       "        vertical-align: middle;\n",
       "    }\n",
       "\n",
       "    .dataframe tbody tr th {\n",
       "        vertical-align: top;\n",
       "    }\n",
       "\n",
       "    .dataframe thead th {\n",
       "        text-align: right;\n",
       "    }\n",
       "</style>\n",
       "<table border=\"1\" class=\"dataframe\">\n",
       "  <thead>\n",
       "    <tr style=\"text-align: right;\">\n",
       "      <th></th>\n",
       "      <th>sex</th>\n",
       "      <th>age</th>\n",
       "      <th>Time</th>\n",
       "      <th>Number_of_Warts</th>\n",
       "      <th>Type</th>\n",
       "      <th>Area</th>\n",
       "    </tr>\n",
       "  </thead>\n",
       "  <tbody>\n",
       "    <tr>\n",
       "      <th>0</th>\n",
       "      <td>-0.956501</td>\n",
       "      <td>0.481695</td>\n",
       "      <td>1.279144</td>\n",
       "      <td>-0.144085</td>\n",
       "      <td>-0.777778</td>\n",
       "      <td>0.108143</td>\n",
       "    </tr>\n",
       "    <tr>\n",
       "      <th>1</th>\n",
       "      <td>-0.956501</td>\n",
       "      <td>0.030106</td>\n",
       "      <td>-0.196791</td>\n",
       "      <td>-0.144085</td>\n",
       "      <td>-0.777778</td>\n",
       "      <td>0.077609</td>\n",
       "    </tr>\n",
       "    <tr>\n",
       "      <th>2</th>\n",
       "      <td>-0.956501</td>\n",
       "      <td>1.610667</td>\n",
       "      <td>0.098396</td>\n",
       "      <td>-1.271709</td>\n",
       "      <td>1.444444</td>\n",
       "      <td>0.352419</td>\n",
       "    </tr>\n",
       "    <tr>\n",
       "      <th>3</th>\n",
       "      <td>-0.956501</td>\n",
       "      <td>0.255900</td>\n",
       "      <td>1.205347</td>\n",
       "      <td>0.419727</td>\n",
       "      <td>1.444444</td>\n",
       "      <td>5.070003</td>\n",
       "    </tr>\n",
       "    <tr>\n",
       "      <th>4</th>\n",
       "      <td>-0.956501</td>\n",
       "      <td>2.890170</td>\n",
       "      <td>0.467380</td>\n",
       "      <td>-1.271709</td>\n",
       "      <td>-0.777778</td>\n",
       "      <td>-0.334607</td>\n",
       "    </tr>\n",
       "  </tbody>\n",
       "</table>\n",
       "</div>"
      ],
      "text/plain": [
       "        sex       age      Time  Number_of_Warts      Type      Area\n",
       "0 -0.956501  0.481695  1.279144        -0.144085 -0.777778  0.108143\n",
       "1 -0.956501  0.030106 -0.196791        -0.144085 -0.777778  0.077609\n",
       "2 -0.956501  1.610667  0.098396        -1.271709  1.444444  0.352419\n",
       "3 -0.956501  0.255900  1.205347         0.419727  1.444444  5.070003\n",
       "4 -0.956501  2.890170  0.467380        -1.271709 -0.777778 -0.334607"
      ]
     },
     "execution_count": 631,
     "metadata": {},
     "output_type": "execute_result"
    }
   ],
   "source": [
    "from sklearn.preprocessing import StandardScaler\n",
    "scaler=StandardScaler()\n",
    "X=pd.DataFrame(scaler.fit_transform(X),columns=X.columns)\n",
    "X.head()"
   ]
  },
  {
   "cell_type": "code",
   "execution_count": 632,
   "metadata": {},
   "outputs": [
    {
     "name": "stdout",
     "output_type": "stream",
     "text": [
      "(76, 6)\n",
      "(14, 6)\n"
     ]
    }
   ],
   "source": [
    "from sklearn.model_selection import train_test_split\n",
    "X_train, X_test, y_train, y_test = train_test_split(X, y, test_size=0.15, random_state=42)\n",
    "print(X_train.shape)\n",
    "print(X_test.shape)"
   ]
  },
  {
   "cell_type": "code",
   "execution_count": 633,
   "metadata": {},
   "outputs": [
    {
     "name": "stderr",
     "output_type": "stream",
     "text": [
      "/home/jupyterlab/conda/envs/python/lib/python3.6/site-packages/sklearn/utils/validation.py:761: DataConversionWarning: A column-vector y was passed when a 1d array was expected. Please change the shape of y to (n_samples, ), for example using ravel().\n",
      "  y = column_or_1d(y, warn=True)\n"
     ]
    },
    {
     "data": {
      "text/plain": [
       "GradientBoostingClassifier(criterion='mse', init=None, learning_rate=0.005,\n",
       "              loss='deviance', max_depth=3, max_features='auto',\n",
       "              max_leaf_nodes=None, min_impurity_decrease=0.0,\n",
       "              min_impurity_split=None, min_samples_leaf=2,\n",
       "              min_samples_split=3, min_weight_fraction_leaf=0.0,\n",
       "              n_estimators=250, n_iter_no_change=None, presort='auto',\n",
       "              random_state=0, subsample=0.95, tol=0.0001,\n",
       "              validation_fraction=0.15, verbose=0, warm_start=False)"
      ]
     },
     "execution_count": 633,
     "metadata": {},
     "output_type": "execute_result"
    }
   ],
   "source": [
    "from sklearn.ensemble import GradientBoostingClassifier\n",
    "gradient=GradientBoostingClassifier(loss=\"deviance\",learning_rate=0.005,n_estimators=250,subsample=0.95,criterion=\"mse\",min_samples_split=3,min_samples_leaf=2,max_depth=3,max_features=\"auto\",validation_fraction=0.15,random_state=0).fit(X_train,y_train)\n",
    "gradient"
   ]
  },
  {
   "cell_type": "code",
   "execution_count": 634,
   "metadata": {},
   "outputs": [
    {
     "name": "stdout",
     "output_type": "stream",
     "text": [
      "Accuracy for train data is:  0.9868421052631579\n",
      "Accuracy for test data is:  0.9285714285714286\n"
     ]
    }
   ],
   "source": [
    "from sklearn.metrics import accuracy_score\n",
    "y0_pred=gradient.predict(X_train)\n",
    "print(\"Accuracy for train data is: \",accuracy_score(y_train,y0_pred))\n",
    "y1_pred=gradient.predict(X_test)\n",
    "print(\"Accuracy for test data is: \", accuracy_score(y_test,y1_pred))"
   ]
  },
  {
   "cell_type": "code",
   "execution_count": 635,
   "metadata": {},
   "outputs": [
    {
     "name": "stdout",
     "output_type": "stream",
     "text": [
      "AUC for train data is:  0.9878048780487805\n",
      "AUC for test data is:  0.9285714285714286\n"
     ]
    }
   ],
   "source": [
    "from sklearn.metrics import roc_auc_score\n",
    "print(\"AUC for train data is: \",roc_auc_score(y_train,y0_pred))\n",
    "print(\"AUC for test data is: \", roc_auc_score(y_test,y1_pred))"
   ]
  },
  {
   "cell_type": "code",
   "execution_count": 636,
   "metadata": {},
   "outputs": [
    {
     "name": "stdout",
     "output_type": "stream",
     "text": [
      "Confusion matrix for for train data is: \n",
      " [[35  0]\n",
      " [ 1 40]]\n",
      "Confusion matrix for test data is: \n",
      " [[7 0]\n",
      " [1 6]]\n"
     ]
    }
   ],
   "source": [
    "from sklearn.metrics import confusion_matrix\n",
    "print(\"Confusion matrix for for train data is: \\n\",confusion_matrix(y_train,y0_pred))\n",
    "print(\"Confusion matrix for test data is: \\n\", confusion_matrix(y_test,y1_pred))"
   ]
  },
  {
   "cell_type": "code",
   "execution_count": 640,
   "metadata": {},
   "outputs": [
    {
     "name": "stdout",
     "output_type": "stream",
     "text": [
      "F1 score for for train data is:  0.9876543209876543\n",
      "F1 score for test data is:  0.923076923076923\n"
     ]
    }
   ],
   "source": [
    "from sklearn.metrics import f1_score\n",
    "print(\"F1 score for for train data is: \",f1_score(y_train,y0_pred))\n",
    "print(\"F1 score for test data is: \", f1_score(y_test,y1_pred))"
   ]
  },
  {
   "cell_type": "code",
   "execution_count": null,
   "metadata": {},
   "outputs": [],
   "source": []
  },
  {
   "cell_type": "code",
   "execution_count": 644,
   "metadata": {},
   "outputs": [
    {
     "name": "stderr",
     "output_type": "stream",
     "text": [
      "/home/jupyterlab/conda/envs/python/lib/python3.6/site-packages/ipykernel_launcher.py:2: DataConversionWarning: A column-vector y was passed when a 1d array was expected. Please change the shape of y to (n_samples,), for example using ravel().\n",
      "  \n",
      "/home/jupyterlab/conda/envs/python/lib/python3.6/site-packages/sklearn/ensemble/forest.py:502: UserWarning: class_weight presets \"balanced\" or \"balanced_subsample\" are not recommended for warm_start if the fitted data differs from the full dataset. In order to use \"balanced\" weights, use compute_class_weight(\"balanced\", classes, y). In place of y you can use a large enough sample of the full training set target to properly estimate the class frequency distributions. Pass the resulting weights as the class_weight parameter.\n",
      "  warn('class_weight presets \"balanced\" or \"balanced_subsample\" are '\n"
     ]
    },
    {
     "data": {
      "text/plain": [
       "RandomForestClassifier(bootstrap=True, class_weight='balanced',\n",
       "            criterion='entropy', max_depth=4, max_features='auto',\n",
       "            max_leaf_nodes=None, min_impurity_decrease=0.0,\n",
       "            min_impurity_split=None, min_samples_leaf=1,\n",
       "            min_samples_split=3, min_weight_fraction_leaf=0.0,\n",
       "            n_estimators=200, n_jobs=-1, oob_score=False, random_state=0,\n",
       "            verbose=0, warm_start=True)"
      ]
     },
     "execution_count": 644,
     "metadata": {},
     "output_type": "execute_result"
    }
   ],
   "source": [
    "from sklearn.ensemble import RandomForestClassifier\n",
    "forest=RandomForestClassifier(n_estimators=200,criterion=\"entropy\",max_depth=4,min_samples_split=3,min_samples_leaf=1,max_features=\"auto\",bootstrap=True,n_jobs=-1,warm_start=True,class_weight=\"balanced\",random_state=0).fit(X_train,y_train)\n",
    "forest"
   ]
  },
  {
   "cell_type": "code",
   "execution_count": 645,
   "metadata": {},
   "outputs": [
    {
     "name": "stdout",
     "output_type": "stream",
     "text": [
      "Accuracy for train data is:  1.0\n",
      "Accuracy for test data is:  0.9285714285714286\n"
     ]
    }
   ],
   "source": [
    "y0_pred=forest.predict(X_train)\n",
    "print(\"Accuracy for train data is: \",accuracy_score(y_train,y0_pred))\n",
    "y1_pred=forest.predict(X_test)\n",
    "print(\"Accuracy for test data is: \", accuracy_score(y_test,y1_pred))"
   ]
  },
  {
   "cell_type": "code",
   "execution_count": 646,
   "metadata": {},
   "outputs": [
    {
     "name": "stdout",
     "output_type": "stream",
     "text": [
      "AUC for train data is:  1.0\n",
      "AUC for test data is:  0.9285714285714286\n"
     ]
    }
   ],
   "source": [
    "print(\"AUC for train data is: \",roc_auc_score(y_train,y0_pred))\n",
    "print(\"AUC for test data is: \", roc_auc_score(y_test,y1_pred))"
   ]
  },
  {
   "cell_type": "code",
   "execution_count": 647,
   "metadata": {},
   "outputs": [
    {
     "name": "stdout",
     "output_type": "stream",
     "text": [
      "Confusion matrix for for train data is: \n",
      " [[35  0]\n",
      " [ 0 41]]\n",
      "Confusion matrix for test data is: \n",
      " [[7 0]\n",
      " [1 6]]\n"
     ]
    }
   ],
   "source": [
    "print(\"Confusion matrix for for train data is: \\n\",confusion_matrix(y_train,y0_pred))\n",
    "print(\"Confusion matrix for test data is: \\n\", confusion_matrix(y_test,y1_pred))"
   ]
  },
  {
   "cell_type": "code",
   "execution_count": 648,
   "metadata": {},
   "outputs": [
    {
     "name": "stdout",
     "output_type": "stream",
     "text": [
      "F1 score for for train data is:  1.0\n",
      "F1 score for test data is:  0.923076923076923\n"
     ]
    }
   ],
   "source": [
    "print(\"F1 score for for train data is: \",f1_score(y_train,y0_pred))\n",
    "print(\"F1 score for test data is: \", f1_score(y_test,y1_pred))"
   ]
  },
  {
   "cell_type": "code",
   "execution_count": null,
   "metadata": {},
   "outputs": [],
   "source": []
  },
  {
   "cell_type": "code",
   "execution_count": 649,
   "metadata": {},
   "outputs": [
    {
     "name": "stderr",
     "output_type": "stream",
     "text": [
      "/home/jupyterlab/conda/envs/python/lib/python3.6/site-packages/sklearn/utils/validation.py:761: DataConversionWarning: A column-vector y was passed when a 1d array was expected. Please change the shape of y to (n_samples, ), for example using ravel().\n",
      "  y = column_or_1d(y, warn=True)\n"
     ]
    },
    {
     "data": {
      "text/plain": [
       "SVC(C=0.7, cache_size=175, class_weight=None, coef0=0.0,\n",
       "  decision_function_shape='ovr', degree=3, gamma='auto', kernel='rbf',\n",
       "  max_iter=-1, probability=True, random_state=0, shrinking=True, tol=0.001,\n",
       "  verbose=False)"
      ]
     },
     "execution_count": 649,
     "metadata": {},
     "output_type": "execute_result"
    }
   ],
   "source": [
    "from sklearn import svm\n",
    "svm=svm.SVC(C=0.7,kernel=\"rbf\",degree=3,gamma=\"auto\",cache_size=175,decision_function_shape=\"ovr\",probability=True,random_state=0).fit(X_train,y_train)\n",
    "svm"
   ]
  },
  {
   "cell_type": "code",
   "execution_count": 650,
   "metadata": {},
   "outputs": [
    {
     "name": "stdout",
     "output_type": "stream",
     "text": [
      "Accuracy for train data is:  0.9473684210526315\n",
      "Accuracy for test data is:  0.7857142857142857\n"
     ]
    }
   ],
   "source": [
    "y0_pred=svm.predict(X_train)\n",
    "print(\"Accuracy for train data is: \",accuracy_score(y_train,y0_pred))\n",
    "y1_pred=svm.predict(X_test)\n",
    "print(\"Accuracy for test data is: \", accuracy_score(y_test,y1_pred))"
   ]
  },
  {
   "cell_type": "code",
   "execution_count": 651,
   "metadata": {},
   "outputs": [
    {
     "name": "stdout",
     "output_type": "stream",
     "text": [
      "AUC for train data is:  0.9470383275261324\n",
      "AUC for test data is:  0.7857142857142857\n"
     ]
    }
   ],
   "source": [
    "print(\"AUC for train data is: \",roc_auc_score(y_train,y0_pred))\n",
    "print(\"AUC for test data is: \", roc_auc_score(y_test,y1_pred))"
   ]
  },
  {
   "cell_type": "code",
   "execution_count": 652,
   "metadata": {},
   "outputs": [
    {
     "name": "stdout",
     "output_type": "stream",
     "text": [
      "Confusion matrix for for train data is: \n",
      " [[33  2]\n",
      " [ 2 39]]\n",
      "Confusion matrix for test data is: \n",
      " [[7 0]\n",
      " [3 4]]\n"
     ]
    }
   ],
   "source": [
    "print(\"Confusion matrix for for train data is: \\n\",confusion_matrix(y_train,y0_pred))\n",
    "print(\"Confusion matrix for test data is: \\n\", confusion_matrix(y_test,y1_pred))"
   ]
  },
  {
   "cell_type": "code",
   "execution_count": 653,
   "metadata": {},
   "outputs": [
    {
     "name": "stdout",
     "output_type": "stream",
     "text": [
      "F1 score for for train data is:  0.9512195121951219\n",
      "F1 score for test data is:  0.7272727272727273\n"
     ]
    }
   ],
   "source": [
    "print(\"F1 score for for train data is: \",f1_score(y_train,y0_pred))\n",
    "print(\"F1 score for test data is: \", f1_score(y_test,y1_pred))"
   ]
  },
  {
   "cell_type": "code",
   "execution_count": null,
   "metadata": {},
   "outputs": [],
   "source": []
  },
  {
   "cell_type": "code",
   "execution_count": 83,
   "metadata": {},
   "outputs": [],
   "source": [
    "import keras\n",
    "from keras.models import Sequential\n",
    "from keras.layers import Dense\n",
    "from keras.layers import Dropout\n",
    "from keras.optimizers import Adam"
   ]
  },
  {
   "cell_type": "code",
   "execution_count": 84,
   "metadata": {},
   "outputs": [
    {
     "data": {
      "text/plain": [
       "6"
      ]
     },
     "execution_count": 84,
     "metadata": {},
     "output_type": "execute_result"
    }
   ],
   "source": [
    "length=X_test.shape[1]\n",
    "length"
   ]
  },
  {
   "cell_type": "code",
   "execution_count": 85,
   "metadata": {},
   "outputs": [
    {
     "name": "stdout",
     "output_type": "stream",
     "text": [
      "2\n"
     ]
    }
   ],
   "source": [
    "from keras.utils import to_categorical\n",
    "y_train=to_categorical(y_train)\n",
    "y_test=to_categorical(y_test)\n",
    "num_classes=y_test.shape[1]\n",
    "print(num_classes)"
   ]
  },
  {
   "cell_type": "code",
   "execution_count": 102,
   "metadata": {},
   "outputs": [],
   "source": [
    "def classification_model():\n",
    "    # create model\n",
    "    model = Sequential()\n",
    "    model.add(Dense(length, activation='relu', input_shape=(length,)))\n",
    "    model.add(Dense(80, activation='relu'))\n",
    "    model.add(Dropout(0.2))\n",
    "    model.add(Dense(80, activation='relu'))\n",
    "    model.add(Dropout(0.2))\n",
    "    model.add(Dense(80, activation='relu'))\n",
    "    model.add(Dropout(0.2))\n",
    "    model.add(Dense(80, activation='relu'))\n",
    "    model.add(Dense(num_classes, activation='softmax'))\n",
    "    opt=Adam(lr=0.005)\n",
    "    model.compile(optimizer=opt, loss='categorical_crossentropy', metrics=['accuracy'])\n",
    "    return model"
   ]
  },
  {
   "cell_type": "code",
   "execution_count": 106,
   "metadata": {},
   "outputs": [
    {
     "name": "stdout",
     "output_type": "stream",
     "text": [
      "Train on 76 samples, validate on 14 samples\n",
      "Epoch 1/50\n",
      " - 3s - loss: 0.6685 - acc: 0.5789 - val_loss: 0.6004 - val_acc: 0.5714\n",
      "Epoch 2/50\n",
      " - 0s - loss: 0.5281 - acc: 0.7895 - val_loss: 0.5086 - val_acc: 0.7857\n",
      "Epoch 3/50\n",
      " - 0s - loss: 0.4314 - acc: 0.7763 - val_loss: 0.4811 - val_acc: 0.7857\n",
      "Epoch 4/50\n",
      " - 0s - loss: 0.2559 - acc: 0.8947 - val_loss: 0.5779 - val_acc: 0.7857\n",
      "Epoch 5/50\n",
      " - 0s - loss: 0.2411 - acc: 0.8816 - val_loss: 0.7113 - val_acc: 0.7857\n",
      "Epoch 6/50\n",
      " - 0s - loss: 0.1502 - acc: 0.9474 - val_loss: 0.8634 - val_acc: 0.7857\n",
      "Epoch 7/50\n",
      " - 0s - loss: 0.1822 - acc: 0.8947 - val_loss: 0.9873 - val_acc: 0.7857\n",
      "Epoch 8/50\n",
      " - 0s - loss: 0.1476 - acc: 0.9079 - val_loss: 1.0697 - val_acc: 0.7857\n",
      "Epoch 9/50\n",
      " - 0s - loss: 0.2041 - acc: 0.9342 - val_loss: 1.1093 - val_acc: 0.7857\n",
      "Epoch 10/50\n",
      " - 0s - loss: 0.1230 - acc: 0.9737 - val_loss: 1.1872 - val_acc: 0.7857\n",
      "Epoch 11/50\n",
      " - 0s - loss: 0.1105 - acc: 0.9474 - val_loss: 1.2872 - val_acc: 0.7857\n",
      "Epoch 12/50\n",
      " - 0s - loss: 0.1410 - acc: 0.9474 - val_loss: 1.2513 - val_acc: 0.7857\n",
      "Epoch 13/50\n",
      " - 0s - loss: 0.0672 - acc: 0.9868 - val_loss: 1.2203 - val_acc: 0.7857\n",
      "Epoch 14/50\n",
      " - 0s - loss: 0.1173 - acc: 0.9474 - val_loss: 1.1474 - val_acc: 0.7857\n",
      "Epoch 15/50\n",
      " - 0s - loss: 0.0924 - acc: 0.9737 - val_loss: 1.1272 - val_acc: 0.7857\n",
      "Epoch 16/50\n",
      " - 0s - loss: 0.0805 - acc: 0.9474 - val_loss: 1.1624 - val_acc: 0.7857\n",
      "Epoch 17/50\n",
      " - 0s - loss: 0.0920 - acc: 0.9605 - val_loss: 1.2521 - val_acc: 0.7857\n",
      "Epoch 18/50\n",
      " - 0s - loss: 0.0821 - acc: 0.9474 - val_loss: 1.3157 - val_acc: 0.7857\n",
      "Epoch 19/50\n",
      " - 0s - loss: 0.0629 - acc: 0.9605 - val_loss: 1.4289 - val_acc: 0.7857\n",
      "Epoch 20/50\n",
      " - 0s - loss: 0.0880 - acc: 0.9342 - val_loss: 1.5292 - val_acc: 0.7857\n",
      "Epoch 21/50\n",
      " - 0s - loss: 0.0606 - acc: 0.9868 - val_loss: 1.5727 - val_acc: 0.7857\n",
      "Epoch 22/50\n",
      " - 0s - loss: 0.0586 - acc: 0.9737 - val_loss: 1.6594 - val_acc: 0.7857\n",
      "Epoch 23/50\n",
      " - 0s - loss: 0.0707 - acc: 0.9605 - val_loss: 1.7733 - val_acc: 0.7857\n",
      "Epoch 24/50\n",
      " - 0s - loss: 0.0555 - acc: 0.9737 - val_loss: 1.8933 - val_acc: 0.7857\n",
      "Epoch 25/50\n",
      " - 0s - loss: 0.0597 - acc: 0.9737 - val_loss: 1.9739 - val_acc: 0.7857\n",
      "Epoch 26/50\n",
      " - 0s - loss: 0.0531 - acc: 0.9737 - val_loss: 1.9681 - val_acc: 0.7857\n",
      "Epoch 27/50\n",
      " - 0s - loss: 0.0411 - acc: 0.9737 - val_loss: 2.0063 - val_acc: 0.7857\n",
      "Epoch 28/50\n",
      " - 0s - loss: 0.0618 - acc: 0.9737 - val_loss: 2.0539 - val_acc: 0.7857\n",
      "Epoch 29/50\n",
      " - 0s - loss: 0.0507 - acc: 0.9868 - val_loss: 2.1381 - val_acc: 0.7857\n",
      "Epoch 30/50\n",
      " - 0s - loss: 0.0478 - acc: 0.9737 - val_loss: 2.2207 - val_acc: 0.7857\n",
      "Epoch 31/50\n",
      " - 0s - loss: 0.0289 - acc: 0.9868 - val_loss: 2.3025 - val_acc: 0.7857\n",
      "Epoch 32/50\n",
      " - 0s - loss: 0.0307 - acc: 0.9868 - val_loss: 2.4181 - val_acc: 0.7857\n",
      "Epoch 33/50\n",
      " - 0s - loss: 0.0263 - acc: 0.9868 - val_loss: 2.5252 - val_acc: 0.7857\n",
      "Epoch 34/50\n",
      " - 0s - loss: 0.0180 - acc: 1.0000 - val_loss: 2.6271 - val_acc: 0.7857\n",
      "Epoch 35/50\n",
      " - 0s - loss: 0.0243 - acc: 0.9868 - val_loss: 2.7159 - val_acc: 0.7857\n",
      "Epoch 36/50\n",
      " - 0s - loss: 0.0174 - acc: 1.0000 - val_loss: 2.7499 - val_acc: 0.7857\n",
      "Epoch 37/50\n",
      " - 0s - loss: 0.0174 - acc: 1.0000 - val_loss: 2.7870 - val_acc: 0.7857\n",
      "Epoch 38/50\n",
      " - 0s - loss: 0.0263 - acc: 0.9868 - val_loss: 2.8311 - val_acc: 0.7857\n",
      "Epoch 39/50\n",
      " - 0s - loss: 0.0089 - acc: 1.0000 - val_loss: 2.8729 - val_acc: 0.7857\n",
      "Epoch 40/50\n",
      " - 0s - loss: 0.0162 - acc: 0.9868 - val_loss: 2.9260 - val_acc: 0.7857\n",
      "Epoch 41/50\n",
      " - 0s - loss: 0.0085 - acc: 1.0000 - val_loss: 2.9495 - val_acc: 0.7857\n",
      "Epoch 42/50\n",
      " - 0s - loss: 0.0359 - acc: 0.9868 - val_loss: 2.9903 - val_acc: 0.7857\n",
      "Epoch 43/50\n",
      " - 0s - loss: 0.0151 - acc: 1.0000 - val_loss: 3.0321 - val_acc: 0.7857\n",
      "Epoch 44/50\n",
      " - 0s - loss: 0.0022 - acc: 1.0000 - val_loss: 3.0676 - val_acc: 0.7857\n",
      "Epoch 45/50\n",
      " - 0s - loss: 0.0182 - acc: 0.9868 - val_loss: 3.0586 - val_acc: 0.7857\n",
      "Epoch 46/50\n",
      " - 0s - loss: 0.0051 - acc: 1.0000 - val_loss: 3.0657 - val_acc: 0.7857\n",
      "Epoch 47/50\n",
      " - 0s - loss: 0.0078 - acc: 1.0000 - val_loss: 3.0692 - val_acc: 0.7857\n",
      "Epoch 48/50\n",
      " - 0s - loss: 0.0151 - acc: 0.9868 - val_loss: 3.0732 - val_acc: 0.7857\n",
      "Epoch 49/50\n",
      " - 0s - loss: 0.0575 - acc: 0.9868 - val_loss: 2.9400 - val_acc: 0.7857\n",
      "Epoch 50/50\n",
      " - 0s - loss: 0.0096 - acc: 1.0000 - val_loss: 2.7996 - val_acc: 0.7857\n"
     ]
    },
    {
     "data": {
      "text/plain": [
       "[2.7996253967285156, 0.7857142686843872]"
      ]
     },
     "execution_count": 106,
     "metadata": {},
     "output_type": "execute_result"
    }
   ],
   "source": [
    "model=classification_model()\n",
    "model.fit(X_train,y_train,validation_data=(X_test, y_test),epochs=50, verbose=2)\n",
    "model.evaluate(X_test,y_test,verbose=0)"
   ]
  },
  {
   "cell_type": "markdown",
   "metadata": {},
   "source": [
    "Neural network does not perform very well when data is limited. For this small dataset that has only 90 instances, GradientBoostingClassifier, RandomForestClassifier and SVM all outperform the Neural Network model."
   ]
  },
  {
   "cell_type": "markdown",
   "metadata": {},
   "source": [
    "Both the GradientBoostingClassifer model and the RandomForestClassifer model delivered 92.86% accuracy on test data. Both model correctly classified all instances of Class 0 and misclassified one instance of Class 1. Can we perfect these two models by lowering the threshold?"
   ]
  },
  {
   "cell_type": "markdown",
   "metadata": {},
   "source": [
    "Run the lines for the other models again, starting from the line that splits the dataset ito train and test subsets."
   ]
  },
  {
   "cell_type": "code",
   "execution_count": 619,
   "metadata": {},
   "outputs": [],
   "source": [
    "y_prob=svm.predict_proba(X_test)\n",
    "y_probs1=y_prob[:,1]"
   ]
  },
  {
   "cell_type": "code",
   "execution_count": 620,
   "metadata": {},
   "outputs": [],
   "source": [
    "import numpy as np\n",
    "thresholds=np.arange(0,1,0.001)"
   ]
  },
  {
   "cell_type": "code",
   "execution_count": 621,
   "metadata": {},
   "outputs": [],
   "source": [
    "def to_labels(pos_probs,threshold):\n",
    "    return (pos_probs >= threshold).astype('int')"
   ]
  },
  {
   "cell_type": "code",
   "execution_count": 622,
   "metadata": {},
   "outputs": [
    {
     "name": "stderr",
     "output_type": "stream",
     "text": [
      "/home/jupyterlab/conda/envs/python/lib/python3.6/site-packages/sklearn/metrics/classification.py:1143: UndefinedMetricWarning: F-score is ill-defined and being set to 0.0 due to no predicted samples.\n",
      "  'precision', 'predicted', average, warn_for)\n"
     ]
    }
   ],
   "source": [
    "from sklearn.metrics import f1_score\n",
    "scores=[f1_score(y_test, to_labels(y_probs1,t)) for t in thresholds]"
   ]
  },
  {
   "cell_type": "code",
   "execution_count": 623,
   "metadata": {},
   "outputs": [
    {
     "name": "stdout",
     "output_type": "stream",
     "text": [
      "(0.481, 0.7272727272727273)\n"
     ]
    }
   ],
   "source": [
    "ix=np.argmax(scores)\n",
    "print((thresholds[ix],scores[ix]))"
   ]
  },
  {
   "cell_type": "code",
   "execution_count": 624,
   "metadata": {},
   "outputs": [
    {
     "data": {
      "text/html": [
       "<div>\n",
       "<style scoped>\n",
       "    .dataframe tbody tr th:only-of-type {\n",
       "        vertical-align: middle;\n",
       "    }\n",
       "\n",
       "    .dataframe tbody tr th {\n",
       "        vertical-align: top;\n",
       "    }\n",
       "\n",
       "    .dataframe thead th {\n",
       "        text-align: right;\n",
       "    }\n",
       "</style>\n",
       "<table border=\"1\" class=\"dataframe\">\n",
       "  <thead>\n",
       "    <tr style=\"text-align: right;\">\n",
       "      <th></th>\n",
       "      <th>Pred_1</th>\n",
       "    </tr>\n",
       "  </thead>\n",
       "  <tbody>\n",
       "    <tr>\n",
       "      <th>1</th>\n",
       "      <td>0.980770</td>\n",
       "    </tr>\n",
       "    <tr>\n",
       "      <th>5</th>\n",
       "      <td>0.957615</td>\n",
       "    </tr>\n",
       "    <tr>\n",
       "      <th>12</th>\n",
       "      <td>0.984286</td>\n",
       "    </tr>\n",
       "    <tr>\n",
       "      <th>13</th>\n",
       "      <td>0.991341</td>\n",
       "    </tr>\n",
       "  </tbody>\n",
       "</table>\n",
       "</div>"
      ],
      "text/plain": [
       "      Pred_1\n",
       "1   0.980770\n",
       "5   0.957615\n",
       "12  0.984286\n",
       "13  0.991341"
      ]
     },
     "execution_count": 624,
     "metadata": {},
     "output_type": "execute_result"
    }
   ],
   "source": [
    "y_probs1=pd.DataFrame(y_probs1).rename(columns={0:\"Pred_1\"})\n",
    "pred_1=y_probs1[y_probs1[\"Pred_1\"]>=0.481]\n",
    "pred_1"
   ]
  },
  {
   "cell_type": "markdown",
   "metadata": {},
   "source": [
    "With the default threshold, the SVM model correctly classified 4 of the positive cases in the test data. After lowering the threshold, the SVM model still just classified 4 positive cases. "
   ]
  },
  {
   "cell_type": "markdown",
   "metadata": {},
   "source": [
    "Let's see if adjusting the threshold will improve the performance of GradientBoostingClassifier and RandomForestClassifer or not."
   ]
  },
  {
   "cell_type": "code",
   "execution_count": 57,
   "metadata": {},
   "outputs": [],
   "source": [
    "y_prob=gradient.predict_proba(X_test)"
   ]
  },
  {
   "cell_type": "code",
   "execution_count": 58,
   "metadata": {},
   "outputs": [],
   "source": [
    "y_probs1=y_prob[:,1]"
   ]
  },
  {
   "cell_type": "code",
   "execution_count": 59,
   "metadata": {},
   "outputs": [],
   "source": [
    "import numpy as np\n",
    "thresholds=np.arange(0,1,0.001)"
   ]
  },
  {
   "cell_type": "code",
   "execution_count": 60,
   "metadata": {},
   "outputs": [],
   "source": [
    "def to_labels(pos_probs,threshold):\n",
    "    return (pos_probs >= threshold).astype('int')"
   ]
  },
  {
   "cell_type": "code",
   "execution_count": 61,
   "metadata": {},
   "outputs": [
    {
     "name": "stderr",
     "output_type": "stream",
     "text": [
      "/home/jupyterlab/conda/envs/python/lib/python3.6/site-packages/sklearn/metrics/classification.py:1143: UndefinedMetricWarning: F-score is ill-defined and being set to 0.0 due to no predicted samples.\n",
      "  'precision', 'predicted', average, warn_for)\n"
     ]
    }
   ],
   "source": [
    "from sklearn.metrics import f1_score\n",
    "scores=[f1_score(y_test, to_labels(y_probs1,t)) for t in thresholds]"
   ]
  },
  {
   "cell_type": "code",
   "execution_count": 62,
   "metadata": {},
   "outputs": [
    {
     "name": "stdout",
     "output_type": "stream",
     "text": [
      "(0.467, 0.923076923076923)\n"
     ]
    }
   ],
   "source": [
    "ix=np.argmax(scores)\n",
    "print((thresholds[ix],scores[ix]))"
   ]
  },
  {
   "cell_type": "code",
   "execution_count": 63,
   "metadata": {},
   "outputs": [
    {
     "data": {
      "text/html": [
       "<div>\n",
       "<style scoped>\n",
       "    .dataframe tbody tr th:only-of-type {\n",
       "        vertical-align: middle;\n",
       "    }\n",
       "\n",
       "    .dataframe tbody tr th {\n",
       "        vertical-align: top;\n",
       "    }\n",
       "\n",
       "    .dataframe thead th {\n",
       "        text-align: right;\n",
       "    }\n",
       "</style>\n",
       "<table border=\"1\" class=\"dataframe\">\n",
       "  <thead>\n",
       "    <tr style=\"text-align: right;\">\n",
       "      <th></th>\n",
       "      <th>Pred_1</th>\n",
       "    </tr>\n",
       "  </thead>\n",
       "  <tbody>\n",
       "    <tr>\n",
       "      <th>1</th>\n",
       "      <td>0.863183</td>\n",
       "    </tr>\n",
       "    <tr>\n",
       "      <th>5</th>\n",
       "      <td>0.867593</td>\n",
       "    </tr>\n",
       "    <tr>\n",
       "      <th>7</th>\n",
       "      <td>0.842028</td>\n",
       "    </tr>\n",
       "    <tr>\n",
       "      <th>10</th>\n",
       "      <td>0.800138</td>\n",
       "    </tr>\n",
       "    <tr>\n",
       "      <th>12</th>\n",
       "      <td>0.867593</td>\n",
       "    </tr>\n",
       "    <tr>\n",
       "      <th>13</th>\n",
       "      <td>0.867593</td>\n",
       "    </tr>\n",
       "  </tbody>\n",
       "</table>\n",
       "</div>"
      ],
      "text/plain": [
       "      Pred_1\n",
       "1   0.863183\n",
       "5   0.867593\n",
       "7   0.842028\n",
       "10  0.800138\n",
       "12  0.867593\n",
       "13  0.867593"
      ]
     },
     "execution_count": 63,
     "metadata": {},
     "output_type": "execute_result"
    }
   ],
   "source": [
    "y_probs1=pd.DataFrame(y_probs1).rename(columns={0:\"Pred_1\"})\n",
    "pred_1=y_probs1[y_probs1[\"Pred_1\"]>=0.467]\n",
    "pred_1"
   ]
  },
  {
   "cell_type": "code",
   "execution_count": 64,
   "metadata": {},
   "outputs": [
    {
     "data": {
      "text/html": [
       "<div>\n",
       "<style scoped>\n",
       "    .dataframe tbody tr th:only-of-type {\n",
       "        vertical-align: middle;\n",
       "    }\n",
       "\n",
       "    .dataframe tbody tr th {\n",
       "        vertical-align: top;\n",
       "    }\n",
       "\n",
       "    .dataframe thead th {\n",
       "        text-align: right;\n",
       "    }\n",
       "</style>\n",
       "<table border=\"1\" class=\"dataframe\">\n",
       "  <thead>\n",
       "    <tr style=\"text-align: right;\">\n",
       "      <th></th>\n",
       "      <th>Result_of_Treatment</th>\n",
       "    </tr>\n",
       "  </thead>\n",
       "  <tbody>\n",
       "    <tr>\n",
       "      <th>0</th>\n",
       "      <td>0</td>\n",
       "    </tr>\n",
       "    <tr>\n",
       "      <th>1</th>\n",
       "      <td>1</td>\n",
       "    </tr>\n",
       "    <tr>\n",
       "      <th>2</th>\n",
       "      <td>0</td>\n",
       "    </tr>\n",
       "    <tr>\n",
       "      <th>3</th>\n",
       "      <td>0</td>\n",
       "    </tr>\n",
       "    <tr>\n",
       "      <th>4</th>\n",
       "      <td>0</td>\n",
       "    </tr>\n",
       "    <tr>\n",
       "      <th>5</th>\n",
       "      <td>1</td>\n",
       "    </tr>\n",
       "    <tr>\n",
       "      <th>6</th>\n",
       "      <td>0</td>\n",
       "    </tr>\n",
       "    <tr>\n",
       "      <th>7</th>\n",
       "      <td>1</td>\n",
       "    </tr>\n",
       "    <tr>\n",
       "      <th>8</th>\n",
       "      <td>0</td>\n",
       "    </tr>\n",
       "    <tr>\n",
       "      <th>9</th>\n",
       "      <td>0</td>\n",
       "    </tr>\n",
       "    <tr>\n",
       "      <th>10</th>\n",
       "      <td>1</td>\n",
       "    </tr>\n",
       "    <tr>\n",
       "      <th>11</th>\n",
       "      <td>1</td>\n",
       "    </tr>\n",
       "    <tr>\n",
       "      <th>12</th>\n",
       "      <td>1</td>\n",
       "    </tr>\n",
       "    <tr>\n",
       "      <th>13</th>\n",
       "      <td>1</td>\n",
       "    </tr>\n",
       "  </tbody>\n",
       "</table>\n",
       "</div>"
      ],
      "text/plain": [
       "    Result_of_Treatment\n",
       "0                     0\n",
       "1                     1\n",
       "2                     0\n",
       "3                     0\n",
       "4                     0\n",
       "5                     1\n",
       "6                     0\n",
       "7                     1\n",
       "8                     0\n",
       "9                     0\n",
       "10                    1\n",
       "11                    1\n",
       "12                    1\n",
       "13                    1"
      ]
     },
     "execution_count": 64,
     "metadata": {},
     "output_type": "execute_result"
    }
   ],
   "source": [
    "y_test=y_test.reset_index(drop=True)\n",
    "y_test"
   ]
  },
  {
   "cell_type": "code",
   "execution_count": 65,
   "metadata": {},
   "outputs": [
    {
     "data": {
      "text/html": [
       "<div>\n",
       "<style scoped>\n",
       "    .dataframe tbody tr th:only-of-type {\n",
       "        vertical-align: middle;\n",
       "    }\n",
       "\n",
       "    .dataframe tbody tr th {\n",
       "        vertical-align: top;\n",
       "    }\n",
       "\n",
       "    .dataframe thead th {\n",
       "        text-align: right;\n",
       "    }\n",
       "</style>\n",
       "<table border=\"1\" class=\"dataframe\">\n",
       "  <thead>\n",
       "    <tr style=\"text-align: right;\">\n",
       "      <th></th>\n",
       "      <th>Result_of_Treatment</th>\n",
       "    </tr>\n",
       "  </thead>\n",
       "  <tbody>\n",
       "    <tr>\n",
       "      <th>1</th>\n",
       "      <td>1</td>\n",
       "    </tr>\n",
       "    <tr>\n",
       "      <th>5</th>\n",
       "      <td>1</td>\n",
       "    </tr>\n",
       "    <tr>\n",
       "      <th>7</th>\n",
       "      <td>1</td>\n",
       "    </tr>\n",
       "    <tr>\n",
       "      <th>10</th>\n",
       "      <td>1</td>\n",
       "    </tr>\n",
       "    <tr>\n",
       "      <th>11</th>\n",
       "      <td>1</td>\n",
       "    </tr>\n",
       "    <tr>\n",
       "      <th>12</th>\n",
       "      <td>1</td>\n",
       "    </tr>\n",
       "    <tr>\n",
       "      <th>13</th>\n",
       "      <td>1</td>\n",
       "    </tr>\n",
       "  </tbody>\n",
       "</table>\n",
       "</div>"
      ],
      "text/plain": [
       "    Result_of_Treatment\n",
       "1                     1\n",
       "5                     1\n",
       "7                     1\n",
       "10                    1\n",
       "11                    1\n",
       "12                    1\n",
       "13                    1"
      ]
     },
     "execution_count": 65,
     "metadata": {},
     "output_type": "execute_result"
    }
   ],
   "source": [
    "test_1=y_test[y_test[\"Result_of_Treatment\"]==1]\n",
    "test_1"
   ]
  },
  {
   "cell_type": "code",
   "execution_count": 66,
   "metadata": {},
   "outputs": [
    {
     "name": "stdout",
     "output_type": "stream",
     "text": [
      "Number of actual positive cases : 7\n"
     ]
    }
   ],
   "source": [
    "print(\"Number of actual positive cases :\",len(test_1))"
   ]
  },
  {
   "cell_type": "code",
   "execution_count": 67,
   "metadata": {},
   "outputs": [
    {
     "name": "stdout",
     "output_type": "stream",
     "text": [
      "Number of predicted positive cases:  6\n"
     ]
    }
   ],
   "source": [
    "print(\"Number of predicted positive cases: \", len(pred_1))"
   ]
  },
  {
   "cell_type": "markdown",
   "metadata": {},
   "source": [
    "Lowering the threshold did not allow GradientBoostingClassifier the model to detect the only case that it missed. Let's see which instance it missed."
   ]
  },
  {
   "cell_type": "code",
   "execution_count": 68,
   "metadata": {},
   "outputs": [
    {
     "data": {
      "text/plain": [
       "Int64Index([1, 5, 7, 10, 11, 12, 13], dtype='int64')"
      ]
     },
     "execution_count": 68,
     "metadata": {},
     "output_type": "execute_result"
    }
   ],
   "source": [
    "test_1.index"
   ]
  },
  {
   "cell_type": "code",
   "execution_count": 69,
   "metadata": {},
   "outputs": [
    {
     "data": {
      "text/plain": [
       "Int64Index([1, 5, 7, 10, 12, 13], dtype='int64')"
      ]
     },
     "execution_count": 69,
     "metadata": {},
     "output_type": "execute_result"
    }
   ],
   "source": [
    "pred_1.index"
   ]
  },
  {
   "cell_type": "markdown",
   "metadata": {},
   "source": [
    "So, the mode missed instance 11. Let's see the predicted probability for instance 11."
   ]
  },
  {
   "cell_type": "code",
   "execution_count": 73,
   "metadata": {},
   "outputs": [
    {
     "data": {
      "text/plain": [
       "Pred_1    0.153563\n",
       "Name: 11, dtype: float64"
      ]
     },
     "execution_count": 73,
     "metadata": {},
     "output_type": "execute_result"
    }
   ],
   "source": [
    "y_probs1.loc[11]"
   ]
  },
  {
   "cell_type": "markdown",
   "metadata": {},
   "source": [
    "The predicted probability for instance 11 is 0.153563. So, lowering the threshold to the optimal threshold 0.467 did not help the model detect this positive instance."
   ]
  },
  {
   "cell_type": "markdown",
   "metadata": {},
   "source": [
    "What about the RandomForestClassifier model? Would lowering the threshold allow the RandomForestClassifier model detect the only positive instance that it missed?"
   ]
  },
  {
   "cell_type": "code",
   "execution_count": 77,
   "metadata": {},
   "outputs": [],
   "source": [
    "y_prob=forest.predict_proba(X_test)"
   ]
  },
  {
   "cell_type": "code",
   "execution_count": 78,
   "metadata": {},
   "outputs": [],
   "source": [
    "y_probs1=y_prob[:,1]"
   ]
  },
  {
   "cell_type": "code",
   "execution_count": 79,
   "metadata": {},
   "outputs": [],
   "source": [
    "import numpy as np\n",
    "thresholds=np.arange(0,1,0.001)"
   ]
  },
  {
   "cell_type": "code",
   "execution_count": 80,
   "metadata": {},
   "outputs": [
    {
     "name": "stderr",
     "output_type": "stream",
     "text": [
      "/home/jupyterlab/conda/envs/python/lib/python3.6/site-packages/sklearn/metrics/classification.py:1143: UndefinedMetricWarning: F-score is ill-defined and being set to 0.0 due to no predicted samples.\n",
      "  'precision', 'predicted', average, warn_for)\n"
     ]
    }
   ],
   "source": [
    "from sklearn.metrics import f1_score\n",
    "scores=[f1_score(y_test, to_labels(y_probs1,t)) for t in thresholds]"
   ]
  },
  {
   "cell_type": "code",
   "execution_count": 81,
   "metadata": {},
   "outputs": [
    {
     "name": "stdout",
     "output_type": "stream",
     "text": [
      "(0.459, 0.923076923076923)\n"
     ]
    }
   ],
   "source": [
    "ix=np.argmax(scores)\n",
    "print((thresholds[ix],scores[ix]))"
   ]
  },
  {
   "cell_type": "code",
   "execution_count": 83,
   "metadata": {},
   "outputs": [
    {
     "data": {
      "text/html": [
       "<div>\n",
       "<style scoped>\n",
       "    .dataframe tbody tr th:only-of-type {\n",
       "        vertical-align: middle;\n",
       "    }\n",
       "\n",
       "    .dataframe tbody tr th {\n",
       "        vertical-align: top;\n",
       "    }\n",
       "\n",
       "    .dataframe thead th {\n",
       "        text-align: right;\n",
       "    }\n",
       "</style>\n",
       "<table border=\"1\" class=\"dataframe\">\n",
       "  <thead>\n",
       "    <tr style=\"text-align: right;\">\n",
       "      <th></th>\n",
       "      <th>Pred_1</th>\n",
       "    </tr>\n",
       "  </thead>\n",
       "  <tbody>\n",
       "    <tr>\n",
       "      <th>1</th>\n",
       "      <td>0.915569</td>\n",
       "    </tr>\n",
       "    <tr>\n",
       "      <th>5</th>\n",
       "      <td>0.986587</td>\n",
       "    </tr>\n",
       "    <tr>\n",
       "      <th>7</th>\n",
       "      <td>0.523366</td>\n",
       "    </tr>\n",
       "    <tr>\n",
       "      <th>10</th>\n",
       "      <td>0.607031</td>\n",
       "    </tr>\n",
       "    <tr>\n",
       "      <th>12</th>\n",
       "      <td>0.968208</td>\n",
       "    </tr>\n",
       "    <tr>\n",
       "      <th>13</th>\n",
       "      <td>0.975803</td>\n",
       "    </tr>\n",
       "  </tbody>\n",
       "</table>\n",
       "</div>"
      ],
      "text/plain": [
       "      Pred_1\n",
       "1   0.915569\n",
       "5   0.986587\n",
       "7   0.523366\n",
       "10  0.607031\n",
       "12  0.968208\n",
       "13  0.975803"
      ]
     },
     "execution_count": 83,
     "metadata": {},
     "output_type": "execute_result"
    }
   ],
   "source": [
    "y_probs1=pd.DataFrame(y_probs1).rename(columns={0:\"Pred_1\"})\n",
    "pred_1=y_probs1[y_probs1[\"Pred_1\"]>=0.459]\n",
    "pred_1"
   ]
  },
  {
   "cell_type": "markdown",
   "metadata": {},
   "source": [
    "Lowering the threshold did not allow the RandomForestClassifier model to detect instance 11 either."
   ]
  },
  {
   "cell_type": "code",
   "execution_count": null,
   "metadata": {},
   "outputs": [],
   "source": []
  },
  {
   "cell_type": "code",
   "execution_count": 654,
   "metadata": {},
   "outputs": [
    {
     "data": {
      "text/html": [
       "<div>\n",
       "<style scoped>\n",
       "    .dataframe tbody tr th:only-of-type {\n",
       "        vertical-align: middle;\n",
       "    }\n",
       "\n",
       "    .dataframe tbody tr th {\n",
       "        vertical-align: top;\n",
       "    }\n",
       "\n",
       "    .dataframe thead th {\n",
       "        text-align: right;\n",
       "    }\n",
       "</style>\n",
       "<table border=\"1\" class=\"dataframe\">\n",
       "  <thead>\n",
       "    <tr style=\"text-align: right;\">\n",
       "      <th></th>\n",
       "      <th>sex</th>\n",
       "      <th>age</th>\n",
       "      <th>Time</th>\n",
       "      <th>Number_of_Warts</th>\n",
       "      <th>Type</th>\n",
       "      <th>Area</th>\n",
       "      <th>induration_diameter</th>\n",
       "      <th>Result_of_Treatment</th>\n",
       "    </tr>\n",
       "  </thead>\n",
       "  <tbody>\n",
       "    <tr>\n",
       "      <th>0</th>\n",
       "      <td>1</td>\n",
       "      <td>22</td>\n",
       "      <td>2.25</td>\n",
       "      <td>14</td>\n",
       "      <td>3</td>\n",
       "      <td>51</td>\n",
       "      <td>50</td>\n",
       "      <td>1</td>\n",
       "    </tr>\n",
       "    <tr>\n",
       "      <th>1</th>\n",
       "      <td>1</td>\n",
       "      <td>15</td>\n",
       "      <td>3.00</td>\n",
       "      <td>2</td>\n",
       "      <td>3</td>\n",
       "      <td>900</td>\n",
       "      <td>70</td>\n",
       "      <td>1</td>\n",
       "    </tr>\n",
       "    <tr>\n",
       "      <th>2</th>\n",
       "      <td>1</td>\n",
       "      <td>16</td>\n",
       "      <td>10.50</td>\n",
       "      <td>2</td>\n",
       "      <td>1</td>\n",
       "      <td>100</td>\n",
       "      <td>25</td>\n",
       "      <td>1</td>\n",
       "    </tr>\n",
       "    <tr>\n",
       "      <th>3</th>\n",
       "      <td>1</td>\n",
       "      <td>27</td>\n",
       "      <td>4.50</td>\n",
       "      <td>9</td>\n",
       "      <td>3</td>\n",
       "      <td>80</td>\n",
       "      <td>30</td>\n",
       "      <td>1</td>\n",
       "    </tr>\n",
       "    <tr>\n",
       "      <th>4</th>\n",
       "      <td>1</td>\n",
       "      <td>20</td>\n",
       "      <td>8.00</td>\n",
       "      <td>6</td>\n",
       "      <td>1</td>\n",
       "      <td>45</td>\n",
       "      <td>8</td>\n",
       "      <td>1</td>\n",
       "    </tr>\n",
       "  </tbody>\n",
       "</table>\n",
       "</div>"
      ],
      "text/plain": [
       "   sex  age   Time  Number_of_Warts  Type  Area  induration_diameter  \\\n",
       "0    1   22   2.25               14     3    51                   50   \n",
       "1    1   15   3.00                2     3   900                   70   \n",
       "2    1   16  10.50                2     1   100                   25   \n",
       "3    1   27   4.50                9     3    80                   30   \n",
       "4    1   20   8.00                6     1    45                    8   \n",
       "\n",
       "   Result_of_Treatment  \n",
       "0                    1  \n",
       "1                    1  \n",
       "2                    1  \n",
       "3                    1  \n",
       "4                    1  "
      ]
     },
     "execution_count": 654,
     "metadata": {},
     "output_type": "execute_result"
    }
   ],
   "source": [
    "url=\"https://bd29ee0e-54ab-4daa-9671-d153865d1620.usrfiles.com/ugd/bd29ee_6d1f4a8188164697b8414877a17e5adf.csv\"\n",
    "df=pd.read_csv(url)\n",
    "df.head()"
   ]
  },
  {
   "cell_type": "code",
   "execution_count": 655,
   "metadata": {},
   "outputs": [
    {
     "data": {
      "text/plain": [
       "(90, 8)"
      ]
     },
     "execution_count": 655,
     "metadata": {},
     "output_type": "execute_result"
    }
   ],
   "source": [
    "df.shape"
   ]
  },
  {
   "cell_type": "code",
   "execution_count": 656,
   "metadata": {},
   "outputs": [
    {
     "data": {
      "text/plain": [
       "sex                    False\n",
       "age                    False\n",
       "Time                   False\n",
       "Number_of_Warts        False\n",
       "Type                   False\n",
       "Area                   False\n",
       "induration_diameter    False\n",
       "Result_of_Treatment    False\n",
       "dtype: bool"
      ]
     },
     "execution_count": 656,
     "metadata": {},
     "output_type": "execute_result"
    }
   ],
   "source": [
    "df.isna().any()"
   ]
  },
  {
   "cell_type": "code",
   "execution_count": 657,
   "metadata": {},
   "outputs": [
    {
     "data": {
      "text/html": [
       "<div>\n",
       "<style scoped>\n",
       "    .dataframe tbody tr th:only-of-type {\n",
       "        vertical-align: middle;\n",
       "    }\n",
       "\n",
       "    .dataframe tbody tr th {\n",
       "        vertical-align: top;\n",
       "    }\n",
       "\n",
       "    .dataframe thead th {\n",
       "        text-align: right;\n",
       "    }\n",
       "</style>\n",
       "<table border=\"1\" class=\"dataframe\">\n",
       "  <thead>\n",
       "    <tr style=\"text-align: right;\">\n",
       "      <th>Result_of_Treatment</th>\n",
       "      <th>0</th>\n",
       "      <th>1</th>\n",
       "    </tr>\n",
       "  </thead>\n",
       "  <tbody>\n",
       "    <tr>\n",
       "      <th>sex</th>\n",
       "      <td>19</td>\n",
       "      <td>71</td>\n",
       "    </tr>\n",
       "    <tr>\n",
       "      <th>age</th>\n",
       "      <td>19</td>\n",
       "      <td>71</td>\n",
       "    </tr>\n",
       "    <tr>\n",
       "      <th>Time</th>\n",
       "      <td>19</td>\n",
       "      <td>71</td>\n",
       "    </tr>\n",
       "    <tr>\n",
       "      <th>Number_of_Warts</th>\n",
       "      <td>19</td>\n",
       "      <td>71</td>\n",
       "    </tr>\n",
       "    <tr>\n",
       "      <th>Type</th>\n",
       "      <td>19</td>\n",
       "      <td>71</td>\n",
       "    </tr>\n",
       "    <tr>\n",
       "      <th>Area</th>\n",
       "      <td>19</td>\n",
       "      <td>71</td>\n",
       "    </tr>\n",
       "    <tr>\n",
       "      <th>induration_diameter</th>\n",
       "      <td>19</td>\n",
       "      <td>71</td>\n",
       "    </tr>\n",
       "  </tbody>\n",
       "</table>\n",
       "</div>"
      ],
      "text/plain": [
       "Result_of_Treatment   0   1\n",
       "sex                  19  71\n",
       "age                  19  71\n",
       "Time                 19  71\n",
       "Number_of_Warts      19  71\n",
       "Type                 19  71\n",
       "Area                 19  71\n",
       "induration_diameter  19  71"
      ]
     },
     "execution_count": 657,
     "metadata": {},
     "output_type": "execute_result"
    }
   ],
   "source": [
    "df.groupby(\"Result_of_Treatment\").count().T"
   ]
  },
  {
   "cell_type": "markdown",
   "metadata": {},
   "source": [
    "For immunotherapy dataset, there is a clear class imbalance here."
   ]
  },
  {
   "cell_type": "code",
   "execution_count": 658,
   "metadata": {},
   "outputs": [
    {
     "data": {
      "text/html": [
       "<div>\n",
       "<style scoped>\n",
       "    .dataframe tbody tr th:only-of-type {\n",
       "        vertical-align: middle;\n",
       "    }\n",
       "\n",
       "    .dataframe tbody tr th {\n",
       "        vertical-align: top;\n",
       "    }\n",
       "\n",
       "    .dataframe thead th {\n",
       "        text-align: right;\n",
       "    }\n",
       "</style>\n",
       "<table border=\"1\" class=\"dataframe\">\n",
       "  <thead>\n",
       "    <tr style=\"text-align: right;\">\n",
       "      <th></th>\n",
       "      <th>sex</th>\n",
       "      <th>age</th>\n",
       "      <th>Time</th>\n",
       "      <th>Number_of_Warts</th>\n",
       "      <th>Type</th>\n",
       "      <th>Area</th>\n",
       "      <th>induration_diameter</th>\n",
       "    </tr>\n",
       "  </thead>\n",
       "  <tbody>\n",
       "    <tr>\n",
       "      <th>0</th>\n",
       "      <td>1</td>\n",
       "      <td>22</td>\n",
       "      <td>2.25</td>\n",
       "      <td>14</td>\n",
       "      <td>3</td>\n",
       "      <td>51</td>\n",
       "      <td>50</td>\n",
       "    </tr>\n",
       "    <tr>\n",
       "      <th>1</th>\n",
       "      <td>1</td>\n",
       "      <td>15</td>\n",
       "      <td>3.00</td>\n",
       "      <td>2</td>\n",
       "      <td>3</td>\n",
       "      <td>900</td>\n",
       "      <td>70</td>\n",
       "    </tr>\n",
       "    <tr>\n",
       "      <th>2</th>\n",
       "      <td>1</td>\n",
       "      <td>16</td>\n",
       "      <td>10.50</td>\n",
       "      <td>2</td>\n",
       "      <td>1</td>\n",
       "      <td>100</td>\n",
       "      <td>25</td>\n",
       "    </tr>\n",
       "    <tr>\n",
       "      <th>3</th>\n",
       "      <td>1</td>\n",
       "      <td>27</td>\n",
       "      <td>4.50</td>\n",
       "      <td>9</td>\n",
       "      <td>3</td>\n",
       "      <td>80</td>\n",
       "      <td>30</td>\n",
       "    </tr>\n",
       "    <tr>\n",
       "      <th>4</th>\n",
       "      <td>1</td>\n",
       "      <td>20</td>\n",
       "      <td>8.00</td>\n",
       "      <td>6</td>\n",
       "      <td>1</td>\n",
       "      <td>45</td>\n",
       "      <td>8</td>\n",
       "    </tr>\n",
       "  </tbody>\n",
       "</table>\n",
       "</div>"
      ],
      "text/plain": [
       "   sex  age   Time  Number_of_Warts  Type  Area  induration_diameter\n",
       "0    1   22   2.25               14     3    51                   50\n",
       "1    1   15   3.00                2     3   900                   70\n",
       "2    1   16  10.50                2     1   100                   25\n",
       "3    1   27   4.50                9     3    80                   30\n",
       "4    1   20   8.00                6     1    45                    8"
      ]
     },
     "execution_count": 658,
     "metadata": {},
     "output_type": "execute_result"
    }
   ],
   "source": [
    "X=df.drop([\"Result_of_Treatment\"],axis=1)\n",
    "X.head()"
   ]
  },
  {
   "cell_type": "code",
   "execution_count": 659,
   "metadata": {},
   "outputs": [
    {
     "data": {
      "text/html": [
       "<div>\n",
       "<style scoped>\n",
       "    .dataframe tbody tr th:only-of-type {\n",
       "        vertical-align: middle;\n",
       "    }\n",
       "\n",
       "    .dataframe tbody tr th {\n",
       "        vertical-align: top;\n",
       "    }\n",
       "\n",
       "    .dataframe thead th {\n",
       "        text-align: right;\n",
       "    }\n",
       "</style>\n",
       "<table border=\"1\" class=\"dataframe\">\n",
       "  <thead>\n",
       "    <tr style=\"text-align: right;\">\n",
       "      <th></th>\n",
       "      <th>Result_of_Treatment</th>\n",
       "    </tr>\n",
       "  </thead>\n",
       "  <tbody>\n",
       "    <tr>\n",
       "      <th>0</th>\n",
       "      <td>1</td>\n",
       "    </tr>\n",
       "    <tr>\n",
       "      <th>1</th>\n",
       "      <td>1</td>\n",
       "    </tr>\n",
       "    <tr>\n",
       "      <th>2</th>\n",
       "      <td>1</td>\n",
       "    </tr>\n",
       "    <tr>\n",
       "      <th>3</th>\n",
       "      <td>1</td>\n",
       "    </tr>\n",
       "    <tr>\n",
       "      <th>4</th>\n",
       "      <td>1</td>\n",
       "    </tr>\n",
       "  </tbody>\n",
       "</table>\n",
       "</div>"
      ],
      "text/plain": [
       "   Result_of_Treatment\n",
       "0                    1\n",
       "1                    1\n",
       "2                    1\n",
       "3                    1\n",
       "4                    1"
      ]
     },
     "execution_count": 659,
     "metadata": {},
     "output_type": "execute_result"
    }
   ],
   "source": [
    "y=df[[\"Result_of_Treatment\"]]\n",
    "y.head()"
   ]
  },
  {
   "cell_type": "code",
   "execution_count": 660,
   "metadata": {},
   "outputs": [
    {
     "name": "stderr",
     "output_type": "stream",
     "text": [
      "/home/jupyterlab/conda/envs/python/lib/python3.6/site-packages/sklearn/preprocessing/data.py:625: DataConversionWarning: Data with input dtype int64, float64 were all converted to float64 by StandardScaler.\n",
      "  return self.partial_fit(X, y)\n",
      "/home/jupyterlab/conda/envs/python/lib/python3.6/site-packages/sklearn/base.py:462: DataConversionWarning: Data with input dtype int64, float64 were all converted to float64 by StandardScaler.\n",
      "  return self.fit(X, **fit_params).transform(X)\n"
     ]
    },
    {
     "data": {
      "text/html": [
       "<div>\n",
       "<style scoped>\n",
       "    .dataframe tbody tr th:only-of-type {\n",
       "        vertical-align: middle;\n",
       "    }\n",
       "\n",
       "    .dataframe tbody tr th {\n",
       "        vertical-align: top;\n",
       "    }\n",
       "\n",
       "    .dataframe thead th {\n",
       "        text-align: right;\n",
       "    }\n",
       "</style>\n",
       "<table border=\"1\" class=\"dataframe\">\n",
       "  <thead>\n",
       "    <tr style=\"text-align: right;\">\n",
       "      <th></th>\n",
       "      <th>sex</th>\n",
       "      <th>age</th>\n",
       "      <th>Time</th>\n",
       "      <th>Number_of_Warts</th>\n",
       "      <th>Type</th>\n",
       "      <th>Area</th>\n",
       "      <th>induration_diameter</th>\n",
       "    </tr>\n",
       "  </thead>\n",
       "  <tbody>\n",
       "    <tr>\n",
       "      <th>0</th>\n",
       "      <td>-1.093216</td>\n",
       "      <td>-0.743342</td>\n",
       "      <td>-1.616588</td>\n",
       "      <td>1.875384</td>\n",
       "      <td>1.572168</td>\n",
       "      <td>-0.329031</td>\n",
       "      <td>2.083116</td>\n",
       "    </tr>\n",
       "    <tr>\n",
       "      <th>1</th>\n",
       "      <td>-1.093216</td>\n",
       "      <td>-1.318656</td>\n",
       "      <td>-1.373153</td>\n",
       "      <td>-0.989418</td>\n",
       "      <td>1.572168</td>\n",
       "      <td>5.920346</td>\n",
       "      <td>3.251218</td>\n",
       "    </tr>\n",
       "    <tr>\n",
       "      <th>2</th>\n",
       "      <td>-1.093216</td>\n",
       "      <td>-1.236468</td>\n",
       "      <td>1.061196</td>\n",
       "      <td>-0.989418</td>\n",
       "      <td>-0.867403</td>\n",
       "      <td>0.031652</td>\n",
       "      <td>0.622988</td>\n",
       "    </tr>\n",
       "    <tr>\n",
       "      <th>3</th>\n",
       "      <td>-1.093216</td>\n",
       "      <td>-0.332404</td>\n",
       "      <td>-0.886283</td>\n",
       "      <td>0.681717</td>\n",
       "      <td>1.572168</td>\n",
       "      <td>-0.115566</td>\n",
       "      <td>0.915014</td>\n",
       "    </tr>\n",
       "    <tr>\n",
       "      <th>4</th>\n",
       "      <td>-1.093216</td>\n",
       "      <td>-0.907718</td>\n",
       "      <td>0.249746</td>\n",
       "      <td>-0.034484</td>\n",
       "      <td>-0.867403</td>\n",
       "      <td>-0.373196</td>\n",
       "      <td>-0.369899</td>\n",
       "    </tr>\n",
       "  </tbody>\n",
       "</table>\n",
       "</div>"
      ],
      "text/plain": [
       "        sex       age      Time  Number_of_Warts      Type      Area  \\\n",
       "0 -1.093216 -0.743342 -1.616588         1.875384  1.572168 -0.329031   \n",
       "1 -1.093216 -1.318656 -1.373153        -0.989418  1.572168  5.920346   \n",
       "2 -1.093216 -1.236468  1.061196        -0.989418 -0.867403  0.031652   \n",
       "3 -1.093216 -0.332404 -0.886283         0.681717  1.572168 -0.115566   \n",
       "4 -1.093216 -0.907718  0.249746        -0.034484 -0.867403 -0.373196   \n",
       "\n",
       "   induration_diameter  \n",
       "0             2.083116  \n",
       "1             3.251218  \n",
       "2             0.622988  \n",
       "3             0.915014  \n",
       "4            -0.369899  "
      ]
     },
     "execution_count": 660,
     "metadata": {},
     "output_type": "execute_result"
    }
   ],
   "source": [
    "scaler=StandardScaler()\n",
    "X=pd.DataFrame(scaler.fit_transform(X),columns=X.columns)\n",
    "X.head()"
   ]
  },
  {
   "cell_type": "code",
   "execution_count": 661,
   "metadata": {},
   "outputs": [
    {
     "name": "stdout",
     "output_type": "stream",
     "text": [
      "(76, 7)\n",
      "(14, 7)\n"
     ]
    }
   ],
   "source": [
    "from sklearn.model_selection import train_test_split\n",
    "X_train, X_test, y_train, y_test = train_test_split(X, y, test_size=0.15, random_state=42)\n",
    "print(X_train.shape)\n",
    "print(X_test.shape)"
   ]
  },
  {
   "cell_type": "code",
   "execution_count": 662,
   "metadata": {},
   "outputs": [
    {
     "name": "stderr",
     "output_type": "stream",
     "text": [
      "/home/jupyterlab/conda/envs/python/lib/python3.6/site-packages/sklearn/utils/validation.py:761: DataConversionWarning: A column-vector y was passed when a 1d array was expected. Please change the shape of y to (n_samples, ), for example using ravel().\n",
      "  y = column_or_1d(y, warn=True)\n"
     ]
    },
    {
     "data": {
      "text/plain": [
       "GradientBoostingClassifier(criterion='mse', init=None, learning_rate=0.01,\n",
       "              loss='exponential', max_depth=3, max_features='log2',\n",
       "              max_leaf_nodes=None, min_impurity_decrease=0.0,\n",
       "              min_impurity_split=None, min_samples_leaf=1,\n",
       "              min_samples_split=3, min_weight_fraction_leaf=0.0,\n",
       "              n_estimators=200, n_iter_no_change=None, presort='auto',\n",
       "              random_state=0, subsample=0.95, tol=0.0001,\n",
       "              validation_fraction=0.15, verbose=0, warm_start=False)"
      ]
     },
     "execution_count": 662,
     "metadata": {},
     "output_type": "execute_result"
    }
   ],
   "source": [
    "gradient=GradientBoostingClassifier(loss=\"exponential\",learning_rate=0.01,n_estimators=200,subsample=0.95,criterion=\"mse\",min_samples_split=3,min_samples_leaf=1,max_depth=3,max_features=\"log2\",validation_fraction=0.15,random_state=0).fit(X_train,y_train)\n",
    "gradient"
   ]
  },
  {
   "cell_type": "code",
   "execution_count": 663,
   "metadata": {},
   "outputs": [
    {
     "name": "stdout",
     "output_type": "stream",
     "text": [
      "Accuracy for train data is:  0.9342105263157895\n",
      "Accuracy for test data is:  0.8571428571428571\n"
     ]
    }
   ],
   "source": [
    "y0_pred=gradient.predict(X_train)\n",
    "print(\"Accuracy for train data is: \",accuracy_score(y_train,y0_pred))\n",
    "y1_pred=gradient.predict(X_test)\n",
    "print(\"Accuracy for test data is: \", accuracy_score(y_test,y1_pred))"
   ]
  },
  {
   "cell_type": "code",
   "execution_count": 664,
   "metadata": {},
   "outputs": [
    {
     "name": "stdout",
     "output_type": "stream",
     "text": [
      "AUC for train data is:  0.84375\n",
      "AUC for test data is:  0.6666666666666667\n"
     ]
    }
   ],
   "source": [
    "print(\"AUC for train data is: \",roc_auc_score(y_train,y0_pred))\n",
    "print(\"AUC for test data is: \", roc_auc_score(y_test,y1_pred))"
   ]
  },
  {
   "cell_type": "code",
   "execution_count": 665,
   "metadata": {},
   "outputs": [
    {
     "name": "stdout",
     "output_type": "stream",
     "text": [
      "Confusion matrix for for train data is: \n",
      " [[11  5]\n",
      " [ 0 60]]\n",
      "Confusion matrix for test data is: \n",
      " [[ 1  2]\n",
      " [ 0 11]]\n"
     ]
    }
   ],
   "source": [
    "print(\"Confusion matrix for for train data is: \\n\",confusion_matrix(y_train,y0_pred))\n",
    "print(\"Confusion matrix for test data is: \\n\", confusion_matrix(y_test,y1_pred))"
   ]
  },
  {
   "cell_type": "markdown",
   "metadata": {},
   "source": [
    "The model correctly classified all positive cases, but misclassified 2 negative cases as positive."
   ]
  },
  {
   "cell_type": "code",
   "execution_count": 666,
   "metadata": {},
   "outputs": [],
   "source": [
    "y_prob=gradient.predict_proba(X_test)"
   ]
  },
  {
   "cell_type": "markdown",
   "metadata": {},
   "source": [
    "Since the model misclassified the negative cases, we want the predicted probabilities of the negative class."
   ]
  },
  {
   "cell_type": "code",
   "execution_count": 667,
   "metadata": {},
   "outputs": [],
   "source": [
    "y_probs0=y_prob[:,0]"
   ]
  },
  {
   "cell_type": "code",
   "execution_count": 668,
   "metadata": {},
   "outputs": [],
   "source": [
    "import numpy as np\n",
    "thresholds=np.arange(0,1,0.001)"
   ]
  },
  {
   "cell_type": "code",
   "execution_count": 669,
   "metadata": {},
   "outputs": [
    {
     "name": "stderr",
     "output_type": "stream",
     "text": [
      "/home/jupyterlab/conda/envs/python/lib/python3.6/site-packages/sklearn/metrics/classification.py:1143: UndefinedMetricWarning: F-score is ill-defined and being set to 0.0 due to no predicted samples.\n",
      "  'precision', 'predicted', average, warn_for)\n"
     ]
    }
   ],
   "source": [
    "from sklearn.metrics import f1_score\n",
    "scores=[f1_score(y_test, to_labels(y_probs0,t)) for t in thresholds]"
   ]
  },
  {
   "cell_type": "code",
   "execution_count": 670,
   "metadata": {},
   "outputs": [
    {
     "name": "stdout",
     "output_type": "stream",
     "text": [
      "(0.0, 0.88)\n"
     ]
    }
   ],
   "source": [
    "ix=np.argmax(scores)\n",
    "print((thresholds[ix],scores[ix]))"
   ]
  },
  {
   "cell_type": "markdown",
   "metadata": {},
   "source": [
    "The optimal threshold is 0. However, if we set the threshold to be 0, all instances in the test data would be classified as negative. We certainly do not want that to happen. So, lowering the threshold does not work in this case."
   ]
  },
  {
   "cell_type": "code",
   "execution_count": 671,
   "metadata": {},
   "outputs": [
    {
     "name": "stderr",
     "output_type": "stream",
     "text": [
      "/home/jupyterlab/conda/envs/python/lib/python3.6/site-packages/ipykernel_launcher.py:1: DataConversionWarning: A column-vector y was passed when a 1d array was expected. Please change the shape of y to (n_samples,), for example using ravel().\n",
      "  \"\"\"Entry point for launching an IPython kernel.\n",
      "/home/jupyterlab/conda/envs/python/lib/python3.6/site-packages/sklearn/ensemble/forest.py:502: UserWarning: class_weight presets \"balanced\" or \"balanced_subsample\" are not recommended for warm_start if the fitted data differs from the full dataset. In order to use \"balanced\" weights, use compute_class_weight(\"balanced\", classes, y). In place of y you can use a large enough sample of the full training set target to properly estimate the class frequency distributions. Pass the resulting weights as the class_weight parameter.\n",
      "  warn('class_weight presets \"balanced\" or \"balanced_subsample\" are '\n"
     ]
    },
    {
     "data": {
      "text/plain": [
       "RandomForestClassifier(bootstrap=True, class_weight='balanced_subsample',\n",
       "            criterion='gini', max_depth=2, max_features='log2',\n",
       "            max_leaf_nodes=None, min_impurity_decrease=0.0,\n",
       "            min_impurity_split=None, min_samples_leaf=2,\n",
       "            min_samples_split=2, min_weight_fraction_leaf=0.0,\n",
       "            n_estimators=100, n_jobs=-1, oob_score=False, random_state=0,\n",
       "            verbose=0, warm_start=True)"
      ]
     },
     "execution_count": 671,
     "metadata": {},
     "output_type": "execute_result"
    }
   ],
   "source": [
    "forest=RandomForestClassifier(n_estimators=100,criterion=\"gini\",max_depth=2,min_samples_split=2,min_samples_leaf=2,max_features=\"log2\",bootstrap=True,n_jobs=-1,warm_start=True,class_weight=\"balanced_subsample\",random_state=0).fit(X_train,y_train)\n",
    "forest"
   ]
  },
  {
   "cell_type": "code",
   "execution_count": 672,
   "metadata": {},
   "outputs": [
    {
     "name": "stdout",
     "output_type": "stream",
     "text": [
      "Accuracy for train data is:  0.9210526315789473\n",
      "Accuracy for test data is:  0.8571428571428571\n"
     ]
    }
   ],
   "source": [
    "y0_pred=forest.predict(X_train)\n",
    "print(\"Accuracy for train data is: \",accuracy_score(y_train,y0_pred))\n",
    "y1_pred=forest.predict(X_test)\n",
    "print(\"Accuracy for test data is: \", accuracy_score(y_test,y1_pred))"
   ]
  },
  {
   "cell_type": "code",
   "execution_count": 673,
   "metadata": {},
   "outputs": [
    {
     "name": "stdout",
     "output_type": "stream",
     "text": [
      "AUC for train data is:  0.8354166666666667\n",
      "AUC for test data is:  0.6666666666666667\n"
     ]
    }
   ],
   "source": [
    "print(\"AUC for train data is: \",roc_auc_score(y_train,y0_pred))\n",
    "print(\"AUC for test data is: \", roc_auc_score(y_test,y1_pred))"
   ]
  },
  {
   "cell_type": "code",
   "execution_count": 674,
   "metadata": {},
   "outputs": [
    {
     "name": "stdout",
     "output_type": "stream",
     "text": [
      "Confusion matrix for for train data is: \n",
      " [[11  5]\n",
      " [ 1 59]]\n",
      "Confusion matrix for test data is: \n",
      " [[ 1  2]\n",
      " [ 0 11]]\n"
     ]
    }
   ],
   "source": [
    "print(\"Confusion matrix for for train data is: \\n\",confusion_matrix(y_train,y0_pred))\n",
    "print(\"Confusion matrix for test data is: \\n\", confusion_matrix(y_test,y1_pred))"
   ]
  },
  {
   "cell_type": "markdown",
   "metadata": {},
   "source": [
    "The RandomForestClassifier model delviered the same result as the GradientBoostingClassifier model."
   ]
  },
  {
   "cell_type": "code",
   "execution_count": 675,
   "metadata": {},
   "outputs": [
    {
     "name": "stderr",
     "output_type": "stream",
     "text": [
      "/home/jupyterlab/conda/envs/python/lib/python3.6/site-packages/sklearn/utils/validation.py:761: DataConversionWarning: A column-vector y was passed when a 1d array was expected. Please change the shape of y to (n_samples, ), for example using ravel().\n",
      "  y = column_or_1d(y, warn=True)\n"
     ]
    },
    {
     "data": {
      "text/plain": [
       "SVC(C=0.8, cache_size=150, class_weight=None, coef0=0.0,\n",
       "  decision_function_shape='ovo', degree=2, gamma='scale', kernel='rbf',\n",
       "  max_iter=-1, probability=True, random_state=0, shrinking=True, tol=0.001,\n",
       "  verbose=False)"
      ]
     },
     "execution_count": 675,
     "metadata": {},
     "output_type": "execute_result"
    }
   ],
   "source": [
    "from sklearn import svm\n",
    "svm=svm.SVC(C=0.8,kernel=\"rbf\",degree=2,gamma=\"scale\",cache_size=150,decision_function_shape=\"ovo\",probability=True,random_state=0).fit(X_train,y_train)\n",
    "svm"
   ]
  },
  {
   "cell_type": "code",
   "execution_count": 676,
   "metadata": {},
   "outputs": [
    {
     "name": "stdout",
     "output_type": "stream",
     "text": [
      "Accuracy for train data is:  0.8421052631578947\n",
      "Accuracy for test data is:  0.7857142857142857\n"
     ]
    }
   ],
   "source": [
    "y0_pred=svm.predict(X_train)\n",
    "print(\"Accuracy for train data is: \",accuracy_score(y_train,y0_pred))\n",
    "y1_pred=svm.predict(X_test)\n",
    "print(\"Accuracy for test data is: \", accuracy_score(y_test,y1_pred))"
   ]
  },
  {
   "cell_type": "code",
   "execution_count": 677,
   "metadata": {},
   "outputs": [
    {
     "name": "stdout",
     "output_type": "stream",
     "text": [
      "AUC for train data is:  0.625\n",
      "AUC for test data is:  0.5\n"
     ]
    }
   ],
   "source": [
    "print(\"AUC for train data is: \",roc_auc_score(y_train,y0_pred))\n",
    "print(\"AUC for test data is: \", roc_auc_score(y_test,y1_pred))"
   ]
  },
  {
   "cell_type": "code",
   "execution_count": 678,
   "metadata": {},
   "outputs": [
    {
     "name": "stdout",
     "output_type": "stream",
     "text": [
      "Confusion matrix for for train data is: \n",
      " [[ 4 12]\n",
      " [ 0 60]]\n",
      "Confusion matrix for test data is: \n",
      " [[ 0  3]\n",
      " [ 0 11]]\n"
     ]
    }
   ],
   "source": [
    "print(\"Confusion matrix for for train data is: \\n\",confusion_matrix(y_train,y0_pred))\n",
    "print(\"Confusion matrix for test data is: \\n\", confusion_matrix(y_test,y1_pred))"
   ]
  },
  {
   "cell_type": "markdown",
   "metadata": {},
   "source": [
    "The Support Vector Machine (SVM) model misclassified all negative cases as positive."
   ]
  },
  {
   "cell_type": "code",
   "execution_count": 679,
   "metadata": {},
   "outputs": [],
   "source": [
    "y_probs=svm.predict_proba(X_test)\n",
    "y_probs0=y_probs[:,0]"
   ]
  },
  {
   "cell_type": "code",
   "execution_count": 680,
   "metadata": {},
   "outputs": [],
   "source": [
    "import numpy as np\n",
    "thresholds=np.arange(0,1,0.001)"
   ]
  },
  {
   "cell_type": "code",
   "execution_count": 681,
   "metadata": {},
   "outputs": [
    {
     "name": "stderr",
     "output_type": "stream",
     "text": [
      "/home/jupyterlab/conda/envs/python/lib/python3.6/site-packages/sklearn/metrics/classification.py:1143: UndefinedMetricWarning: F-score is ill-defined and being set to 0.0 due to no predicted samples.\n",
      "  'precision', 'predicted', average, warn_for)\n"
     ]
    }
   ],
   "source": [
    "from sklearn.metrics import f1_score\n",
    "scores=[f1_score(y_test, to_labels(y_probs0,t)) for t in thresholds]"
   ]
  },
  {
   "cell_type": "code",
   "execution_count": 682,
   "metadata": {},
   "outputs": [
    {
     "name": "stdout",
     "output_type": "stream",
     "text": [
      "(0.0, 0.88)\n"
     ]
    }
   ],
   "source": [
    "ix=np.argmax(scores)\n",
    "print((thresholds[ix],scores[ix]))"
   ]
  },
  {
   "cell_type": "markdown",
   "metadata": {},
   "source": [
    "There is no way to improve the SVM moodel through adjusting the threshold either."
   ]
  },
  {
   "cell_type": "code",
   "execution_count": null,
   "metadata": {},
   "outputs": [],
   "source": []
  },
  {
   "cell_type": "markdown",
   "metadata": {},
   "source": [
    "Lowering the threshold did not improve model performance. Let's try oversampling the minority class in train data."
   ]
  },
  {
   "cell_type": "code",
   "execution_count": 683,
   "metadata": {},
   "outputs": [
    {
     "name": "stdout",
     "output_type": "stream",
     "text": [
      "(76, 7)\n",
      "(14, 7)\n"
     ]
    }
   ],
   "source": [
    "X_train, X_test, y_train, y_test = train_test_split(X, y, test_size=0.15, random_state=42)\n",
    "print(X_train.shape)\n",
    "print(X_test.shape)"
   ]
  },
  {
   "cell_type": "code",
   "execution_count": 684,
   "metadata": {},
   "outputs": [
    {
     "data": {
      "text/plain": [
       "(92, 8)"
      ]
     },
     "execution_count": 684,
     "metadata": {},
     "output_type": "execute_result"
    }
   ],
   "source": [
    "df_t=pd.concat([X_train,y_train],axis=1)\n",
    "df_t0=df_t[df_t[\"Result_of_Treatment\"]==0]\n",
    "df_t0=pd.concat([df_t0]*2,axis=0)\n",
    "df_t1=df_t[df_t[\"Result_of_Treatment\"]==1]\n",
    "df_t=pd.concat([df_t0,df_t1],axis=0)\n",
    "df_t.shape"
   ]
  },
  {
   "cell_type": "code",
   "execution_count": 685,
   "metadata": {},
   "outputs": [
    {
     "data": {
      "text/plain": [
       "(92, 7)"
      ]
     },
     "execution_count": 685,
     "metadata": {},
     "output_type": "execute_result"
    }
   ],
   "source": [
    "X_train=df_t.drop([\"Result_of_Treatment\"],axis=1)\n",
    "X_train.shape"
   ]
  },
  {
   "cell_type": "code",
   "execution_count": 686,
   "metadata": {},
   "outputs": [
    {
     "data": {
      "text/plain": [
       "(92, 1)"
      ]
     },
     "execution_count": 686,
     "metadata": {},
     "output_type": "execute_result"
    }
   ],
   "source": [
    "y_train=df_t[[\"Result_of_Treatment\"]]\n",
    "y_train.shape"
   ]
  },
  {
   "cell_type": "code",
   "execution_count": 687,
   "metadata": {},
   "outputs": [
    {
     "name": "stderr",
     "output_type": "stream",
     "text": [
      "/home/jupyterlab/conda/envs/python/lib/python3.6/site-packages/sklearn/utils/validation.py:761: DataConversionWarning: A column-vector y was passed when a 1d array was expected. Please change the shape of y to (n_samples, ), for example using ravel().\n",
      "  y = column_or_1d(y, warn=True)\n"
     ]
    },
    {
     "data": {
      "text/plain": [
       "GradientBoostingClassifier(criterion='mse', init=None, learning_rate=0.05,\n",
       "              loss='exponential', max_depth=4, max_features='auto',\n",
       "              max_leaf_nodes=None, min_impurity_decrease=0.0,\n",
       "              min_impurity_split=None, min_samples_leaf=2,\n",
       "              min_samples_split=3, min_weight_fraction_leaf=0.0,\n",
       "              n_estimators=200, n_iter_no_change=None, presort='auto',\n",
       "              random_state=0, subsample=1, tol=0.0001,\n",
       "              validation_fraction=0.15, verbose=0, warm_start=False)"
      ]
     },
     "execution_count": 687,
     "metadata": {},
     "output_type": "execute_result"
    }
   ],
   "source": [
    "gradient=GradientBoostingClassifier(loss=\"exponential\",learning_rate=0.05,n_estimators=200,subsample=1,criterion=\"mse\",min_samples_split=3,min_samples_leaf=2,max_depth=4,max_features=\"auto\",validation_fraction=0.15,random_state=0).fit(X_train,y_train)\n",
    "gradient"
   ]
  },
  {
   "cell_type": "code",
   "execution_count": 688,
   "metadata": {},
   "outputs": [
    {
     "name": "stdout",
     "output_type": "stream",
     "text": [
      "Accuracy for train data is:  0.8804347826086957\n",
      "Accuracy for test data is:  0.8571428571428571\n"
     ]
    }
   ],
   "source": [
    "y0_pred=forest.predict(X_train)\n",
    "print(\"Accuracy for train data is: \",accuracy_score(y_train,y0_pred))\n",
    "y1_pred=forest.predict(X_test)\n",
    "print(\"Accuracy for test data is: \", accuracy_score(y_test,y1_pred))"
   ]
  },
  {
   "cell_type": "code",
   "execution_count": 689,
   "metadata": {},
   "outputs": [
    {
     "name": "stderr",
     "output_type": "stream",
     "text": [
      "/home/jupyterlab/conda/envs/python/lib/python3.6/site-packages/ipykernel_launcher.py:1: DataConversionWarning: A column-vector y was passed when a 1d array was expected. Please change the shape of y to (n_samples,), for example using ravel().\n",
      "  \"\"\"Entry point for launching an IPython kernel.\n"
     ]
    },
    {
     "data": {
      "text/plain": [
       "RandomForestClassifier(bootstrap=False, class_weight='balanced',\n",
       "            criterion='entropy', max_depth=5, max_features='sqrt',\n",
       "            max_leaf_nodes=None, min_impurity_decrease=0.0,\n",
       "            min_impurity_split=None, min_samples_leaf=1,\n",
       "            min_samples_split=2, min_weight_fraction_leaf=0.0,\n",
       "            n_estimators=150, n_jobs=-1, oob_score=False, random_state=0,\n",
       "            verbose=0, warm_start=False)"
      ]
     },
     "execution_count": 689,
     "metadata": {},
     "output_type": "execute_result"
    }
   ],
   "source": [
    "forest=RandomForestClassifier(n_estimators=150,criterion=\"entropy\",max_depth=5,min_samples_split=2,min_samples_leaf=1,max_features=\"sqrt\",bootstrap=False,n_jobs=-1,warm_start=False,class_weight=\"balanced\",random_state=0).fit(X_train,y_train)\n",
    "forest"
   ]
  },
  {
   "cell_type": "code",
   "execution_count": 690,
   "metadata": {},
   "outputs": [
    {
     "name": "stdout",
     "output_type": "stream",
     "text": [
      "Accuracy for train data is:  1.0\n",
      "Accuracy for test data is:  0.8571428571428571\n"
     ]
    }
   ],
   "source": [
    "y0_pred=forest.predict(X_train)\n",
    "print(\"Accuracy for train data is: \",accuracy_score(y_train,y0_pred))\n",
    "y1_pred=forest.predict(X_test)\n",
    "print(\"Accuracy for test data is: \", accuracy_score(y_test,y1_pred))"
   ]
  },
  {
   "cell_type": "markdown",
   "metadata": {},
   "source": [
    "Neither the adjusting the threshold nor oversamping the minority class in train data improved model performance. Let's try a different classification algorithm."
   ]
  },
  {
   "cell_type": "code",
   "execution_count": 691,
   "metadata": {},
   "outputs": [
    {
     "name": "stderr",
     "output_type": "stream",
     "text": [
      "/home/jupyterlab/conda/envs/python/lib/python3.6/site-packages/sklearn/utils/validation.py:761: DataConversionWarning: A column-vector y was passed when a 1d array was expected. Please change the shape of y to (n_samples, ), for example using ravel().\n",
      "  y = column_or_1d(y, warn=True)\n"
     ]
    },
    {
     "data": {
      "text/plain": [
       "SVC(C=0.8, cache_size=100, class_weight=None, coef0=0.0,\n",
       "  decision_function_shape='ovr', degree=5, gamma='auto', kernel='sigmoid',\n",
       "  max_iter=-1, probability=True, random_state=0, shrinking=True, tol=0.001,\n",
       "  verbose=False)"
      ]
     },
     "execution_count": 691,
     "metadata": {},
     "output_type": "execute_result"
    }
   ],
   "source": [
    "from sklearn import svm\n",
    "svm=svm.SVC(C=0.8,kernel=\"sigmoid\",degree=5,gamma=\"auto\",cache_size=100,decision_function_shape=\"ovr\",probability=True,random_state=0).fit(X_train,y_train)\n",
    "svm"
   ]
  },
  {
   "cell_type": "code",
   "execution_count": 692,
   "metadata": {},
   "outputs": [
    {
     "name": "stdout",
     "output_type": "stream",
     "text": [
      "Accuracy for train data is:  0.7282608695652174\n",
      "Accuracy for test data is:  0.9285714285714286\n"
     ]
    }
   ],
   "source": [
    "y0_pred=svm.predict(X_train)\n",
    "print(\"Accuracy for train data is: \",accuracy_score(y_train,y0_pred))\n",
    "y1_pred=svm.predict(X_test)\n",
    "print(\"Accuracy for test data is: \", accuracy_score(y_test,y1_pred))"
   ]
  },
  {
   "cell_type": "code",
   "execution_count": 693,
   "metadata": {},
   "outputs": [
    {
     "name": "stdout",
     "output_type": "stream",
     "text": [
      "AUC for train data is:  0.6604166666666667\n",
      "AUC for test data is:  0.8333333333333334\n"
     ]
    }
   ],
   "source": [
    "print(\"AUC for train data is: \",roc_auc_score(y_train,y0_pred))\n",
    "print(\"AUC for test data is: \", roc_auc_score(y_test,y1_pred))"
   ]
  },
  {
   "cell_type": "code",
   "execution_count": 694,
   "metadata": {},
   "outputs": [
    {
     "name": "stdout",
     "output_type": "stream",
     "text": [
      "Confusion matrix for for train data is: \n",
      " [[14 18]\n",
      " [ 7 53]]\n",
      "Confusion matrix for test data is: \n",
      " [[ 2  1]\n",
      " [ 0 11]]\n"
     ]
    }
   ],
   "source": [
    "print(\"Confusion matrix for for train data is: \\n\",confusion_matrix(y_train,y0_pred))\n",
    "print(\"Confusion matrix for test data is: \\n\", confusion_matrix(y_test,y1_pred))"
   ]
  },
  {
   "cell_type": "code",
   "execution_count": 695,
   "metadata": {},
   "outputs": [
    {
     "name": "stdout",
     "output_type": "stream",
     "text": [
      "F1 score for for train data is:  0.8091603053435115\n",
      "F1 score for test data is:  0.9565217391304348\n"
     ]
    }
   ],
   "source": [
    "print(\"F1 score for for train data is: \",f1_score(y_train,y0_pred))\n",
    "print(\"F1 score for test data is: \", f1_score(y_test,y1_pred))"
   ]
  },
  {
   "cell_type": "markdown",
   "metadata": {},
   "source": [
    "There was no way to improve any of the models by adjusting the threshold. Oversampling the minority class in the train data did not improve the GradientBoostingClassifier model and the RandomForestClassifier model either. However, oversampling the minority class in the train data dramatically improve the SVM model. AUC for test data increased from 0.5 to 0.8333. With oversampling, the SVM model went from misclassifying all negative classes as positive class to misclassifying one one negative class as positive class."
   ]
  },
  {
   "cell_type": "code",
   "execution_count": null,
   "metadata": {},
   "outputs": [],
   "source": []
  }
 ],
 "metadata": {
  "kernelspec": {
   "display_name": "Python",
   "language": "python",
   "name": "conda-env-python-py"
  },
  "language_info": {
   "codemirror_mode": {
    "name": "ipython",
    "version": 3
   },
   "file_extension": ".py",
   "mimetype": "text/x-python",
   "name": "python",
   "nbconvert_exporter": "python",
   "pygments_lexer": "ipython3",
   "version": "3.6.11"
  }
 },
 "nbformat": 4,
 "nbformat_minor": 4
}
